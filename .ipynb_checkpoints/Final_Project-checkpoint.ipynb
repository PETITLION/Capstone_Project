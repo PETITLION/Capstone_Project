{
 "cells": [
  {
   "cell_type": "markdown",
   "metadata": {},
   "source": [
    "### $$ Analystes :\\;\\;\\;\\;\\;\\;\\;\\;\\;\\;\\; Jeff \\; Lwear \\; DUVERSEAU \\;et \\;Lionel \\;PETIOTE$$"
   ]
  },
  {
   "cell_type": "markdown",
   "metadata": {},
   "source": [
    "# Project Title :\n",
    "\n",
    "# **$$\\ Credit\\ Card \\ Fraud\\ Detection\\ Using\\ Supervised\\ Machine\\ Learning \\ $$**"
   ]
  },
  {
   "cell_type": "markdown",
   "metadata": {},
   "source": [
    "# 1. Overview\n",
    "\n",
    "#### Ce projet vise à concevoir un modèle prédictif capable d’identifier les transactions frauduleuses effectuées par carte de crédit à l’aide de techniques d’apprentissage supervisé. Le jeu de données comprend plus d’un million de transactions issues de cartes authentiques et compromises, chacune contenant un historique détaillé. L’objectif est de mettre en place un système de classification performant permettant de détecter en temps quasi réel les anomalies et de réduire les pertes financières associées à la fraude.\n",
    "\n",
    "#### Ce projet se positionne ainsi comme une étape clé vers la mise en œuvre de solutions intelligentes de cybersécurité financière."
   ]
  },
  {
   "cell_type": "markdown",
   "metadata": {},
   "source": [
    "## 1.1. Business Understanding\n",
    "\n",
    "#### La fraude par carte de crédit représente un défi majeur pour les institutions financières, tant sur le plan économique que réputationnel. Elle se caractérise par une faible proportion de cas frauduleux et par l’évolution constante des méthodes de fraude, ce qui complique leur détection. Ce projet s’inscrit dans une démarche d’aide à la décision visant à automatiser la détection de comportements suspects grâce à l’analyse de données transactionnelles et à l’intelligence artificielle.\n",
    "\n",
    "#### Dans cette optique, les objectifs ci-dessous ont été définis pour orienter le processus analytique."
   ]
  },
  {
   "cell_type": "markdown",
   "metadata": {},
   "source": [
    " ## 1.2. Objectifs\n",
    " \n",
    " ### 1.2.1. Objectif général\n",
    " \n",
    "#### Développer un modèle d’apprentissage supervisé capable de prédire avec précision le caractère frauduleux ou non d’une transaction par carte de crédit à partir des données historiques.\n",
    "\n",
    "### 1.2.2. Objectifs spécifiques\n",
    "\n",
    "#### Identifier et sélectionner les variables les plus discriminantes permettant de différencier les comportements normaux des comportements suspects.\n",
    "\n",
    "#### Entraîner, tester et comparer plusieurs modèles de classification afin de retenir celui offrant la meilleure performance pour la détection de fraude."
   ]
  },
  {
   "cell_type": "markdown",
   "metadata": {},
   "source": [
    "## 2. Importations\n",
    "## 2.1. Importation des bibliothèques"
   ]
  },
  {
   "cell_type": "code",
   "execution_count": 1,
   "metadata": {},
   "outputs": [],
   "source": [
    "# Manipulation des données\n",
    "import pandas as pd\n",
    "import numpy as np\n",
    "\n",
    "# Visualisation\n",
    "import matplotlib.pyplot as plt\n",
    "import seaborn as sns\n",
    "\n",
    "# Machine Learning\n",
    "from sklearn.model_selection import train_test_split\n",
    "from sklearn.preprocessing import StandardScaler, OneHotEncoder\n",
    "from sklearn.compose import ColumnTransformer\n",
    "from sklearn.pipeline import Pipeline\n",
    "from sklearn.ensemble import RandomForestClassifier\n",
    "from sklearn.metrics import classification_report, confusion_matrix, roc_auc_score, roc_curve\n",
    "\n",
    "# Gestion des avertissements\n",
    "import warnings\n",
    "warnings.filterwarnings('ignore')\n",
    "\n",
    "# Options d’affichage\n",
    "pd.set_option('display.max_columns', None)\n",
    "pd.set_option('display.width', 120)"
   ]
  },
  {
   "cell_type": "markdown",
   "metadata": {},
   "source": [
    "## 2.1. Importation des données"
   ]
  },
  {
   "cell_type": "code",
   "execution_count": 2,
   "metadata": {},
   "outputs": [
    {
     "name": "stdout",
     "output_type": "stream",
     "text": [
      "Données importées avec succès !\n",
      "gdc1 : (350000, 8)\n",
      "gdc2 : (350000, 8)\n",
      "gdc3 : (348575, 8)\n",
      "wpc  : (318242, 7)\n"
     ]
    }
   ],
   "source": [
    "# Fichiers de cartes authentiques\n",
    "gdc1 = pd.read_csv(\"IDXDataset_gdc01.csv\")\n",
    "gdc2 = pd.read_csv(\"IDXDataset_gdc02.csv\")\n",
    "gdc3 = pd.read_csv(\"IDXDataset_gdc03.csv\")\n",
    "\n",
    "# Fichier des cartes compromises\n",
    "wpc = pd.read_csv(\"IDXDataset_wpc.csv\")\n",
    "\n",
    "# Vérification rapide\n",
    "print(\"Données importées avec succès !\")\n",
    "print(f\"gdc1 : {gdc1.shape}\")\n",
    "print(f\"gdc2 : {gdc2.shape}\")\n",
    "print(f\"gdc3 : {gdc3.shape}\")\n",
    "print(f\"wpc  : {wpc.shape}\")"
   ]
  },
  {
   "cell_type": "code",
   "execution_count": 3,
   "metadata": {},
   "outputs": [
    {
     "name": "stdout",
     "output_type": "stream",
     "text": [
      "La structure de la table gdc1 est la suivante :\n"
     ]
    },
    {
     "data": {
      "text/html": [
       "<div>\n",
       "<style scoped>\n",
       "    .dataframe tbody tr th:only-of-type {\n",
       "        vertical-align: middle;\n",
       "    }\n",
       "\n",
       "    .dataframe tbody tr th {\n",
       "        vertical-align: top;\n",
       "    }\n",
       "\n",
       "    .dataframe thead th {\n",
       "        text-align: right;\n",
       "    }\n",
       "</style>\n",
       "<table border=\"1\" class=\"dataframe\">\n",
       "  <thead>\n",
       "    <tr style=\"text-align: right;\">\n",
       "      <th></th>\n",
       "      <th>Unnamed: 0</th>\n",
       "      <th>SEQ</th>\n",
       "      <th>Trans_Calendar_Date</th>\n",
       "      <th>Local_Transaction_Time</th>\n",
       "      <th>CD_TYPE</th>\n",
       "      <th>dollar_amt</th>\n",
       "      <th>CTR</th>\n",
       "      <th>CASE_ID</th>\n",
       "    </tr>\n",
       "  </thead>\n",
       "  <tbody>\n",
       "    <tr>\n",
       "      <th>0</th>\n",
       "      <td>1</td>\n",
       "      <td>41</td>\n",
       "      <td>24-Mar-18</td>\n",
       "      <td>15:54:06</td>\n",
       "      <td>GDC</td>\n",
       "      <td>44.20</td>\n",
       "      <td>1</td>\n",
       "      <td>0</td>\n",
       "    </tr>\n",
       "    <tr>\n",
       "      <th>1</th>\n",
       "      <td>2</td>\n",
       "      <td>40</td>\n",
       "      <td>26-Mar-18</td>\n",
       "      <td>11:06:31</td>\n",
       "      <td>GDC</td>\n",
       "      <td>57.78</td>\n",
       "      <td>2</td>\n",
       "      <td>0</td>\n",
       "    </tr>\n",
       "    <tr>\n",
       "      <th>2</th>\n",
       "      <td>3</td>\n",
       "      <td>39</td>\n",
       "      <td>27-Mar-18</td>\n",
       "      <td>13:03:02</td>\n",
       "      <td>GDC</td>\n",
       "      <td>37.30</td>\n",
       "      <td>3</td>\n",
       "      <td>0</td>\n",
       "    </tr>\n",
       "    <tr>\n",
       "      <th>3</th>\n",
       "      <td>4</td>\n",
       "      <td>38</td>\n",
       "      <td>4-Apr-18</td>\n",
       "      <td>13:35:02</td>\n",
       "      <td>GDC</td>\n",
       "      <td>88.32</td>\n",
       "      <td>4</td>\n",
       "      <td>0</td>\n",
       "    </tr>\n",
       "    <tr>\n",
       "      <th>4</th>\n",
       "      <td>5</td>\n",
       "      <td>37</td>\n",
       "      <td>4-Apr-18</td>\n",
       "      <td>18:53:21</td>\n",
       "      <td>GDC</td>\n",
       "      <td>46.74</td>\n",
       "      <td>5</td>\n",
       "      <td>0</td>\n",
       "    </tr>\n",
       "  </tbody>\n",
       "</table>\n",
       "</div>"
      ],
      "text/plain": [
       "   Unnamed: 0  SEQ Trans_Calendar_Date Local_Transaction_Time CD_TYPE  dollar_amt  CTR  CASE_ID\n",
       "0           1   41           24-Mar-18               15:54:06     GDC       44.20    1        0\n",
       "1           2   40           26-Mar-18               11:06:31     GDC       57.78    2        0\n",
       "2           3   39           27-Mar-18               13:03:02     GDC       37.30    3        0\n",
       "3           4   38            4-Apr-18               13:35:02     GDC       88.32    4        0\n",
       "4           5   37            4-Apr-18               18:53:21     GDC       46.74    5        0"
      ]
     },
     "execution_count": 3,
     "metadata": {},
     "output_type": "execute_result"
    }
   ],
   "source": [
    "# Aperçu détaillés des différents fichiers\n",
    "print(\"La structure de la table gdc1 est la suivante :\")\n",
    "gdc1.head()"
   ]
  },
  {
   "cell_type": "code",
   "execution_count": 4,
   "metadata": {},
   "outputs": [
    {
     "name": "stdout",
     "output_type": "stream",
     "text": [
      "La structure de la table gdc2 est la suivante :\n"
     ]
    },
    {
     "data": {
      "text/html": [
       "<div>\n",
       "<style scoped>\n",
       "    .dataframe tbody tr th:only-of-type {\n",
       "        vertical-align: middle;\n",
       "    }\n",
       "\n",
       "    .dataframe tbody tr th {\n",
       "        vertical-align: top;\n",
       "    }\n",
       "\n",
       "    .dataframe thead th {\n",
       "        text-align: right;\n",
       "    }\n",
       "</style>\n",
       "<table border=\"1\" class=\"dataframe\">\n",
       "  <thead>\n",
       "    <tr style=\"text-align: right;\">\n",
       "      <th></th>\n",
       "      <th>Unnamed: 0</th>\n",
       "      <th>SEQ</th>\n",
       "      <th>Trans_Calendar_Date</th>\n",
       "      <th>Local_Transaction_Time</th>\n",
       "      <th>CD_TYPE</th>\n",
       "      <th>dollar_amt</th>\n",
       "      <th>CTR</th>\n",
       "      <th>CASE_ID</th>\n",
       "    </tr>\n",
       "  </thead>\n",
       "  <tbody>\n",
       "    <tr>\n",
       "      <th>0</th>\n",
       "      <td>350001</td>\n",
       "      <td>17</td>\n",
       "      <td>29-May-18</td>\n",
       "      <td>14:08:24</td>\n",
       "      <td>GDC</td>\n",
       "      <td>49.29</td>\n",
       "      <td>350001</td>\n",
       "      <td>8536</td>\n",
       "    </tr>\n",
       "    <tr>\n",
       "      <th>1</th>\n",
       "      <td>350002</td>\n",
       "      <td>16</td>\n",
       "      <td>1-Jun-18</td>\n",
       "      <td>11:19:27</td>\n",
       "      <td>GDC</td>\n",
       "      <td>67.67</td>\n",
       "      <td>350002</td>\n",
       "      <td>8536</td>\n",
       "    </tr>\n",
       "    <tr>\n",
       "      <th>2</th>\n",
       "      <td>350003</td>\n",
       "      <td>15</td>\n",
       "      <td>6-Jun-18</td>\n",
       "      <td>5:53:43</td>\n",
       "      <td>GDC</td>\n",
       "      <td>57.85</td>\n",
       "      <td>350003</td>\n",
       "      <td>8536</td>\n",
       "    </tr>\n",
       "    <tr>\n",
       "      <th>3</th>\n",
       "      <td>350004</td>\n",
       "      <td>14</td>\n",
       "      <td>9-Jun-18</td>\n",
       "      <td>6:37:50</td>\n",
       "      <td>GDC</td>\n",
       "      <td>51.09</td>\n",
       "      <td>350004</td>\n",
       "      <td>8536</td>\n",
       "    </tr>\n",
       "    <tr>\n",
       "      <th>4</th>\n",
       "      <td>350005</td>\n",
       "      <td>13</td>\n",
       "      <td>13-Jun-18</td>\n",
       "      <td>5:22:14</td>\n",
       "      <td>GDC</td>\n",
       "      <td>47.16</td>\n",
       "      <td>350005</td>\n",
       "      <td>8536</td>\n",
       "    </tr>\n",
       "  </tbody>\n",
       "</table>\n",
       "</div>"
      ],
      "text/plain": [
       "   Unnamed: 0  SEQ Trans_Calendar_Date Local_Transaction_Time CD_TYPE  dollar_amt     CTR  CASE_ID\n",
       "0      350001   17           29-May-18               14:08:24     GDC       49.29  350001     8536\n",
       "1      350002   16            1-Jun-18               11:19:27     GDC       67.67  350002     8536\n",
       "2      350003   15            6-Jun-18                5:53:43     GDC       57.85  350003     8536\n",
       "3      350004   14            9-Jun-18                6:37:50     GDC       51.09  350004     8536\n",
       "4      350005   13           13-Jun-18                5:22:14     GDC       47.16  350005     8536"
      ]
     },
     "execution_count": 4,
     "metadata": {},
     "output_type": "execute_result"
    }
   ],
   "source": [
    "# Aperçu détaillés des différents fichiers\n",
    "print(\"La structure de la table gdc2 est la suivante :\")\n",
    "gdc2.head()"
   ]
  },
  {
   "cell_type": "code",
   "execution_count": 5,
   "metadata": {},
   "outputs": [
    {
     "name": "stdout",
     "output_type": "stream",
     "text": [
      "La structure de la table gdc3 est la suivante :\n"
     ]
    },
    {
     "data": {
      "text/html": [
       "<div>\n",
       "<style scoped>\n",
       "    .dataframe tbody tr th:only-of-type {\n",
       "        vertical-align: middle;\n",
       "    }\n",
       "\n",
       "    .dataframe tbody tr th {\n",
       "        vertical-align: top;\n",
       "    }\n",
       "\n",
       "    .dataframe thead th {\n",
       "        text-align: right;\n",
       "    }\n",
       "</style>\n",
       "<table border=\"1\" class=\"dataframe\">\n",
       "  <thead>\n",
       "    <tr style=\"text-align: right;\">\n",
       "      <th></th>\n",
       "      <th>Unnamed: 0</th>\n",
       "      <th>SEQ</th>\n",
       "      <th>Trans_Calendar_Date</th>\n",
       "      <th>Local_Transaction_Time</th>\n",
       "      <th>CD_TYPE</th>\n",
       "      <th>dollar_amt</th>\n",
       "      <th>CTR</th>\n",
       "      <th>CASE_ID</th>\n",
       "    </tr>\n",
       "  </thead>\n",
       "  <tbody>\n",
       "    <tr>\n",
       "      <th>0</th>\n",
       "      <td>700001</td>\n",
       "      <td>34</td>\n",
       "      <td>7-Dec-17</td>\n",
       "      <td>11:11:10</td>\n",
       "      <td>GDC</td>\n",
       "      <td>34.15</td>\n",
       "      <td>700001</td>\n",
       "      <td>17073</td>\n",
       "    </tr>\n",
       "    <tr>\n",
       "      <th>1</th>\n",
       "      <td>700002</td>\n",
       "      <td>33</td>\n",
       "      <td>15-Dec-17</td>\n",
       "      <td>15:48:05</td>\n",
       "      <td>GDC</td>\n",
       "      <td>33.00</td>\n",
       "      <td>700002</td>\n",
       "      <td>17073</td>\n",
       "    </tr>\n",
       "    <tr>\n",
       "      <th>2</th>\n",
       "      <td>700003</td>\n",
       "      <td>32</td>\n",
       "      <td>27-Dec-17</td>\n",
       "      <td>9:40:44</td>\n",
       "      <td>GDC</td>\n",
       "      <td>33.48</td>\n",
       "      <td>700003</td>\n",
       "      <td>17073</td>\n",
       "    </tr>\n",
       "    <tr>\n",
       "      <th>3</th>\n",
       "      <td>700004</td>\n",
       "      <td>31</td>\n",
       "      <td>5-Jan-18</td>\n",
       "      <td>12:59:46</td>\n",
       "      <td>GDC</td>\n",
       "      <td>35.41</td>\n",
       "      <td>700004</td>\n",
       "      <td>17073</td>\n",
       "    </tr>\n",
       "    <tr>\n",
       "      <th>4</th>\n",
       "      <td>700005</td>\n",
       "      <td>30</td>\n",
       "      <td>15-Jan-18</td>\n",
       "      <td>18:23:28</td>\n",
       "      <td>GDC</td>\n",
       "      <td>38.46</td>\n",
       "      <td>700005</td>\n",
       "      <td>17073</td>\n",
       "    </tr>\n",
       "  </tbody>\n",
       "</table>\n",
       "</div>"
      ],
      "text/plain": [
       "   Unnamed: 0  SEQ Trans_Calendar_Date Local_Transaction_Time CD_TYPE  dollar_amt     CTR  CASE_ID\n",
       "0      700001   34            7-Dec-17               11:11:10     GDC       34.15  700001    17073\n",
       "1      700002   33           15-Dec-17               15:48:05     GDC       33.00  700002    17073\n",
       "2      700003   32           27-Dec-17                9:40:44     GDC       33.48  700003    17073\n",
       "3      700004   31            5-Jan-18               12:59:46     GDC       35.41  700004    17073\n",
       "4      700005   30           15-Jan-18               18:23:28     GDC       38.46  700005    17073"
      ]
     },
     "execution_count": 5,
     "metadata": {},
     "output_type": "execute_result"
    }
   ],
   "source": [
    "# Aperçu détaillés des différents fichiers\n",
    "print(\"La structure de la table gdc3 est la suivante :\")\n",
    "gdc3.head()"
   ]
  },
  {
   "cell_type": "code",
   "execution_count": 6,
   "metadata": {},
   "outputs": [
    {
     "name": "stdout",
     "output_type": "stream",
     "text": [
      "La structure de la table wpc est la suivante :\n"
     ]
    },
    {
     "data": {
      "text/html": [
       "<div>\n",
       "<style scoped>\n",
       "    .dataframe tbody tr th:only-of-type {\n",
       "        vertical-align: middle;\n",
       "    }\n",
       "\n",
       "    .dataframe tbody tr th {\n",
       "        vertical-align: top;\n",
       "    }\n",
       "\n",
       "    .dataframe thead th {\n",
       "        text-align: right;\n",
       "    }\n",
       "</style>\n",
       "<table border=\"1\" class=\"dataframe\">\n",
       "  <thead>\n",
       "    <tr style=\"text-align: right;\">\n",
       "      <th></th>\n",
       "      <th>SEQ</th>\n",
       "      <th>Trans_Calendar_Date</th>\n",
       "      <th>Local_Transaction_Time</th>\n",
       "      <th>CASE_ID</th>\n",
       "      <th>WP_YN</th>\n",
       "      <th>CD_TYPE</th>\n",
       "      <th>dollar_amt</th>\n",
       "    </tr>\n",
       "  </thead>\n",
       "  <tbody>\n",
       "    <tr>\n",
       "      <th>0</th>\n",
       "      <td>41</td>\n",
       "      <td>25-Apr-17</td>\n",
       "      <td>6:27:00</td>\n",
       "      <td>176765465.0</td>\n",
       "      <td>0</td>\n",
       "      <td>WPC</td>\n",
       "      <td>57.01</td>\n",
       "    </tr>\n",
       "    <tr>\n",
       "      <th>1</th>\n",
       "      <td>40</td>\n",
       "      <td>26-Apr-17</td>\n",
       "      <td>17:07:00</td>\n",
       "      <td>176765465.0</td>\n",
       "      <td>0</td>\n",
       "      <td>WPC</td>\n",
       "      <td>57.81</td>\n",
       "    </tr>\n",
       "    <tr>\n",
       "      <th>2</th>\n",
       "      <td>39</td>\n",
       "      <td>28-Apr-17</td>\n",
       "      <td>5:05:00</td>\n",
       "      <td>176765465.0</td>\n",
       "      <td>0</td>\n",
       "      <td>WPC</td>\n",
       "      <td>39.95</td>\n",
       "    </tr>\n",
       "    <tr>\n",
       "      <th>3</th>\n",
       "      <td>38</td>\n",
       "      <td>1-May-17</td>\n",
       "      <td>7:43:37</td>\n",
       "      <td>176765465.0</td>\n",
       "      <td>0</td>\n",
       "      <td>WPC</td>\n",
       "      <td>58.18</td>\n",
       "    </tr>\n",
       "    <tr>\n",
       "      <th>4</th>\n",
       "      <td>37</td>\n",
       "      <td>2-May-17</td>\n",
       "      <td>15:09:06</td>\n",
       "      <td>176765465.0</td>\n",
       "      <td>0</td>\n",
       "      <td>WPC</td>\n",
       "      <td>58.35</td>\n",
       "    </tr>\n",
       "  </tbody>\n",
       "</table>\n",
       "</div>"
      ],
      "text/plain": [
       "   SEQ Trans_Calendar_Date Local_Transaction_Time      CASE_ID  WP_YN CD_TYPE  dollar_amt\n",
       "0   41           25-Apr-17                6:27:00  176765465.0      0     WPC       57.01\n",
       "1   40           26-Apr-17               17:07:00  176765465.0      0     WPC       57.81\n",
       "2   39           28-Apr-17                5:05:00  176765465.0      0     WPC       39.95\n",
       "3   38            1-May-17                7:43:37  176765465.0      0     WPC       58.18\n",
       "4   37            2-May-17               15:09:06  176765465.0      0     WPC       58.35"
      ]
     },
     "execution_count": 6,
     "metadata": {},
     "output_type": "execute_result"
    }
   ],
   "source": [
    "# Aperçu détaillés des différents fichiers\n",
    "print(\"La structure de la table wpc est la suivante :\")\n",
    "wpc.head()"
   ]
  },
  {
   "cell_type": "markdown",
   "metadata": {},
   "source": [
    "### $Commentaire$\n",
    "\n",
    "#### Compréhension des données\n",
    "\n",
    "Les fichiers `gdc1`, `gdc2` et `gdc3` contiennent des transactions légitimes effectuées à partir de **25 575 cartes de crédit**, chacune enregistrant **41 transactions** (soit environ 1 048 575 lignes). Chaque carte est identifiée par un `CASE_ID` unique répété 41 fois, et les transactions sont ordonnées selon la séquence `SEQ` (de 41 à 1). Les colonnes `CTR` et `Unnamed:0` ne sont que des identifiants techniques sans utilité analytique.\n",
    "\n",
    "Le fichier `wpc` regroupe **7 762 cartes compromises**, également dotées de 41 transactions chacune (≈ 318 242 lignes). Contrairement aux fichiers GDC, il inclut une colonne `WP_YN` qui précise la nature de la transaction : **1 pour une transaction frauduleuse (toujours la plus récente, SEQ=1)** et 0 sinon. L’ordre de ses colonnes diffère légèrement, mais la structure reste compatible."
   ]
  },
  {
   "cell_type": "markdown",
   "metadata": {},
   "source": [
    "###### Les fichier `gdc1`, `gdc2` et `gdc3` présentent la même structure et peuvent du coup se fusionner sans difficulté."
   ]
  },
  {
   "cell_type": "code",
   "execution_count": 7,
   "metadata": {},
   "outputs": [
    {
     "data": {
      "text/plain": [
       "(1048575, 8)"
      ]
     },
     "execution_count": 7,
     "metadata": {},
     "output_type": "execute_result"
    }
   ],
   "source": [
    "# Fusion initiale\n",
    "Data_card = pd.concat([gdc1, gdc2, gdc3], ignore_index=True)\n",
    "Data_card.shape"
   ]
  },
  {
   "cell_type": "markdown",
   "metadata": {},
   "source": [
    "###### Les colonnes Unnamed.0 et CTR donnent la même information, il s'agit d'un indentifiant de transaction et du coup ne présentent pas de réelle utilité analytique. Donc, on peut se permettre de les supprimer."
   ]
  },
  {
   "cell_type": "code",
   "execution_count": 8,
   "metadata": {},
   "outputs": [],
   "source": [
    "# Suppression des colonnes Unnamed:0 et CTR\n",
    "Data_card = Data_card.drop(['Unnamed: 0', 'CTR'], axis=1)"
   ]
  },
  {
   "cell_type": "code",
   "execution_count": 9,
   "metadata": {},
   "outputs": [
    {
     "name": "stdout",
     "output_type": "stream",
     "text": [
      "Colonnes gdc1: {'CD_TYPE', 'Trans_Calendar_Date', 'dollar_amt', 'SEQ', 'CASE_ID', 'Local_Transaction_Time'}\n",
      "Colonnes wpc : {'CD_TYPE', 'Trans_Calendar_Date', 'dollar_amt', 'SEQ', 'CASE_ID', 'WP_YN', 'Local_Transaction_Time'}\n",
      "\n",
      "Colonnes manquantes dans wpc : set()\n",
      "Colonnes supplémentaires dans wpc : {'WP_YN'}\n"
     ]
    }
   ],
   "source": [
    "# Comparer les colonnes entre les DataFrames\n",
    "print(\"Colonnes gdc1:\", set(Data_card.columns))\n",
    "print(\"Colonnes wpc :\", set(wpc.columns))\n",
    "\n",
    "# Colonnes manquantes ou différentes\n",
    "print(\"\\nColonnes manquantes dans wpc :\", set(Data_card.columns) - set(wpc.columns))\n",
    "print(\"Colonnes supplémentaires dans wpc :\", set(wpc.columns) - set(Data_card.columns))"
   ]
  },
  {
   "cell_type": "code",
   "execution_count": 10,
   "metadata": {},
   "outputs": [
    {
     "name": "stdout",
     "output_type": "stream",
     "text": [
      "Dimensions : (1366817, 7)\n",
      "Répartition des classes :\n",
      "0    1359055\n",
      "1       7762\n",
      "Name: fraude, dtype: int64\n",
      "\n",
      "Aperçu :\n"
     ]
    },
    {
     "data": {
      "text/html": [
       "<div>\n",
       "<style scoped>\n",
       "    .dataframe tbody tr th:only-of-type {\n",
       "        vertical-align: middle;\n",
       "    }\n",
       "\n",
       "    .dataframe tbody tr th {\n",
       "        vertical-align: top;\n",
       "    }\n",
       "\n",
       "    .dataframe thead th {\n",
       "        text-align: right;\n",
       "    }\n",
       "</style>\n",
       "<table border=\"1\" class=\"dataframe\">\n",
       "  <thead>\n",
       "    <tr style=\"text-align: right;\">\n",
       "      <th></th>\n",
       "      <th>SEQ</th>\n",
       "      <th>Trans_Calendar_Date</th>\n",
       "      <th>Local_Transaction_Time</th>\n",
       "      <th>CD_TYPE</th>\n",
       "      <th>dollar_amt</th>\n",
       "      <th>CASE_ID</th>\n",
       "      <th>fraude</th>\n",
       "    </tr>\n",
       "  </thead>\n",
       "  <tbody>\n",
       "    <tr>\n",
       "      <th>0</th>\n",
       "      <td>41</td>\n",
       "      <td>24-Mar-18</td>\n",
       "      <td>15:54:06</td>\n",
       "      <td>GDC</td>\n",
       "      <td>44.20</td>\n",
       "      <td>0.0</td>\n",
       "      <td>0</td>\n",
       "    </tr>\n",
       "    <tr>\n",
       "      <th>1</th>\n",
       "      <td>40</td>\n",
       "      <td>26-Mar-18</td>\n",
       "      <td>11:06:31</td>\n",
       "      <td>GDC</td>\n",
       "      <td>57.78</td>\n",
       "      <td>0.0</td>\n",
       "      <td>0</td>\n",
       "    </tr>\n",
       "    <tr>\n",
       "      <th>2</th>\n",
       "      <td>39</td>\n",
       "      <td>27-Mar-18</td>\n",
       "      <td>13:03:02</td>\n",
       "      <td>GDC</td>\n",
       "      <td>37.30</td>\n",
       "      <td>0.0</td>\n",
       "      <td>0</td>\n",
       "    </tr>\n",
       "    <tr>\n",
       "      <th>3</th>\n",
       "      <td>38</td>\n",
       "      <td>4-Apr-18</td>\n",
       "      <td>13:35:02</td>\n",
       "      <td>GDC</td>\n",
       "      <td>88.32</td>\n",
       "      <td>0.0</td>\n",
       "      <td>0</td>\n",
       "    </tr>\n",
       "    <tr>\n",
       "      <th>4</th>\n",
       "      <td>37</td>\n",
       "      <td>4-Apr-18</td>\n",
       "      <td>18:53:21</td>\n",
       "      <td>GDC</td>\n",
       "      <td>46.74</td>\n",
       "      <td>0.0</td>\n",
       "      <td>0</td>\n",
       "    </tr>\n",
       "  </tbody>\n",
       "</table>\n",
       "</div>"
      ],
      "text/plain": [
       "   SEQ Trans_Calendar_Date Local_Transaction_Time CD_TYPE  dollar_amt  CASE_ID  fraude\n",
       "0   41           24-Mar-18               15:54:06     GDC       44.20      0.0       0\n",
       "1   40           26-Mar-18               11:06:31     GDC       57.78      0.0       0\n",
       "2   39           27-Mar-18               13:03:02     GDC       37.30      0.0       0\n",
       "3   38            4-Apr-18               13:35:02     GDC       88.32      0.0       0\n",
       "4   37            4-Apr-18               18:53:21     GDC       46.74      0.0       0"
      ]
     },
     "execution_count": 10,
     "metadata": {},
     "output_type": "execute_result"
    }
   ],
   "source": [
    "# Harmoniser les colonnes\n",
    "common_cols = [col for col in Data_card.columns if col in wpc.columns]\n",
    "wpc = wpc[common_cols + ['WP_YN']] if 'WP_YN' in wpc.columns else wpc[common_cols]\n",
    "\n",
    "# Création de la variable cible 'fraude'\n",
    "wpc['fraude'] = wpc['WP_YN'].apply(lambda x: 1 if x == 1 else 0)\n",
    "Data_card['fraude'] = 0\n",
    "\n",
    "# Supprimer la colonne WP_YN\n",
    "wpc_clean = wpc.drop(columns=['WP_YN'], errors='ignore')\n",
    "\n",
    "# Fusion globale\n",
    "Data_card_complete = pd.concat([Data_card, wpc_clean], ignore_index=True)\n",
    "\n",
    "# Vérifications de cohérence\n",
    "print(\"Dimensions :\", Data_card_complete.shape)\n",
    "print(\"Répartition des classes :\")\n",
    "print(Data_card_complete['fraude'].value_counts())\n",
    "print(\"\\nAperçu :\")\n",
    "Data_card_complete.head()"
   ]
  },
  {
   "cell_type": "markdown",
   "metadata": {},
   "source": [
    "# 3. Exploratory Data Analysis"
   ]
  },
  {
   "cell_type": "code",
   "execution_count": 11,
   "metadata": {},
   "outputs": [
    {
     "data": {
      "image/png": "[encoded data removed]",
      "text/plain": [
       "<Figure size 432x288 with 1 Axes>"
      ]
     },
     "metadata": {
      "needs_background": "light"
     },
     "output_type": "display_data"
    },
    {
     "name": "stdout",
     "output_type": "stream",
     "text": [
      "Taux de fraude dans le dataset : 0.57%\n"
     ]
    }
   ],
   "source": [
    "# Distribution des classes (fraude vs non fraude)\n",
    "Data_card_complete['fraude'].value_counts().plot(kind='bar')\n",
    "plt.title(\"Répartition des transactions : Frauduleuses vs Non Frauduleuses\")\n",
    "plt.xlabel(\"Classe\")\n",
    "plt.ylabel(\"Nombre de transactions\")\n",
    "plt.show()\n",
    "\n",
    "# Affichage du pourcentage de transactions frauduleuses\n",
    "fraud_ratio = Data_card_complete['fraude'].mean() * 100\n",
    "print(f\"Taux de fraude dans le dataset : {fraud_ratio:.2f}%\")"
   ]
  },
  {
   "cell_type": "markdown",
   "metadata": {},
   "source": [
    " ### $Commentaire$\n",
    "\n",
    "Le taux global de fraude observé dans le jeu de données est particulièrement faible, avoisinant 0,57 %. Cette faible proportion traduit une forte prédominance des transactions légitimes, ce qui est généralement le cas dans les systèmes de paiement réels où les fraudes représentent une minorité marginale des opérations totales.\n",
    "\n",
    "Cependant, cette déséquilibre marqué entre classes (transactions frauduleuses vs non frauduleuses) constitue un défi majeur pour la modélisation : les algorithmes d’apprentissage risquent de favoriser la classe majoritaire, en négligeant les cas rares mais cruciaux de fraude.\n",
    "\n",
    "**Ainsi, il sera nécessaire d’adopter des stratégies spécifiques de gestion du déséquilibre des classes, telles que** :\n",
    "\n",
    "- la rééchantillonnage (oversampling ou undersampling),\n",
    "- l’utilisation de poids de classes ajustés,\n",
    "- ou encore le recours à des modèles robustes face aux données déséquilibrées."
   ]
  },
  {
   "cell_type": "code",
   "execution_count": 12,
   "metadata": {},
   "outputs": [
    {
     "data": {
      "image/png": "[encoded data removed]",
      "text/plain": [
       "<Figure size 720x432 with 1 Axes>"
      ]
     },
     "metadata": {
      "needs_background": "light"
     },
     "output_type": "display_data"
    },
    {
     "data": {
      "text/html": [
       "<div>\n",
       "<style scoped>\n",
       "    .dataframe tbody tr th:only-of-type {\n",
       "        vertical-align: middle;\n",
       "    }\n",
       "\n",
       "    .dataframe tbody tr th {\n",
       "        vertical-align: top;\n",
       "    }\n",
       "\n",
       "    .dataframe thead th {\n",
       "        text-align: right;\n",
       "    }\n",
       "</style>\n",
       "<table border=\"1\" class=\"dataframe\">\n",
       "  <thead>\n",
       "    <tr style=\"text-align: right;\">\n",
       "      <th></th>\n",
       "      <th>count</th>\n",
       "      <th>mean</th>\n",
       "      <th>std</th>\n",
       "      <th>min</th>\n",
       "      <th>25%</th>\n",
       "      <th>50%</th>\n",
       "      <th>75%</th>\n",
       "      <th>max</th>\n",
       "    </tr>\n",
       "    <tr>\n",
       "      <th>fraude</th>\n",
       "      <th></th>\n",
       "      <th></th>\n",
       "      <th></th>\n",
       "      <th></th>\n",
       "      <th></th>\n",
       "      <th></th>\n",
       "      <th></th>\n",
       "      <th></th>\n",
       "    </tr>\n",
       "  </thead>\n",
       "  <tbody>\n",
       "    <tr>\n",
       "      <th>0</th>\n",
       "      <td>1359055.0</td>\n",
       "      <td>53.640954</td>\n",
       "      <td>42.268213</td>\n",
       "      <td>-1116.91</td>\n",
       "      <td>31.420</td>\n",
       "      <td>46.01</td>\n",
       "      <td>64.59</td>\n",
       "      <td>4413.61</td>\n",
       "    </tr>\n",
       "    <tr>\n",
       "      <th>1</th>\n",
       "      <td>7762.0</td>\n",
       "      <td>172.561364</td>\n",
       "      <td>116.865552</td>\n",
       "      <td>0.03</td>\n",
       "      <td>124.485</td>\n",
       "      <td>150.00</td>\n",
       "      <td>200.00</td>\n",
       "      <td>1020.49</td>\n",
       "    </tr>\n",
       "  </tbody>\n",
       "</table>\n",
       "</div>"
      ],
      "text/plain": [
       "            count        mean         std      min      25%     50%     75%      max\n",
       "fraude                                                                              \n",
       "0       1359055.0   53.640954   42.268213 -1116.91   31.420   46.01   64.59  4413.61\n",
       "1          7762.0  172.561364  116.865552     0.03  124.485  150.00  200.00  1020.49"
      ]
     },
     "execution_count": 12,
     "metadata": {},
     "output_type": "execute_result"
    }
   ],
   "source": [
    "plt.figure(figsize=(10,6))\n",
    "plt.scatter(\n",
    "    x=Data_card_complete.index, \n",
    "    y=Data_card_complete['dollar_amt'], \n",
    "    alpha=0.6, \n",
    "    s=20\n",
    ")\n",
    "\n",
    "# Mise en forme du graphique\n",
    "plt.title(\"Distribution des transactions à selon leur montant\", fontsize=14)\n",
    "plt.xlabel(\"Index des transactions\", fontsize=12)\n",
    "plt.ylabel(\"Montant de la transaction ($)\", fontsize=12)\n",
    "plt.grid(True, linestyle=\"--\", alpha=0.5)\n",
    "plt.show()\n",
    "\n",
    "# Comparaison des montants frauduleux vs non frauduleux\n",
    "Data_card_complete.groupby('fraude')['dollar_amt'].describe()"
   ]
  },
  {
   "cell_type": "markdown",
   "metadata": {},
   "source": [
    " ### $Commentaire$\n",
    "\n",
    "- La grande majorité des transactions se concentrent dans une bande dense autour de zéro, ce qui indique que la plupart des opérations ont des montants relativement faibles, probablement inférieurs à quelques centaines de dollars. Cette zone compacte traduit la normalité des comportements financiers courants.\n",
    "\n",
    "- Cependant, on observe la présence de plusieurs points isolés, s’élevant au-dessus ou en dessous du nuage principal. Ces points représentent des valeurs extrêmes ou atypiques, aussi bien pour des montants élevés positifs (au-delà de 2 000 à 4 000 dollars) que pour quelques valeurs négatives (avoisinant -1 000 dollars)."
   ]
  },
  {
   "cell_type": "code",
   "execution_count": 13,
   "metadata": {},
   "outputs": [
    {
     "name": "stdout",
     "output_type": "stream",
     "text": [
      "<class 'pandas.core.frame.DataFrame'>\n",
      "RangeIndex: 1366817 entries, 0 to 1366816\n",
      "Data columns (total 7 columns):\n",
      " #   Column                  Non-Null Count    Dtype  \n",
      "---  ------                  --------------    -----  \n",
      " 0   SEQ                     1366817 non-null  int64  \n",
      " 1   Trans_Calendar_Date     1366817 non-null  object \n",
      " 2   Local_Transaction_Time  1366817 non-null  object \n",
      " 3   CD_TYPE                 1366817 non-null  object \n",
      " 4   dollar_amt              1366817 non-null  float64\n",
      " 5   CASE_ID                 1362740 non-null  float64\n",
      " 6   fraude                  1366817 non-null  int64  \n",
      "dtypes: float64(2), int64(2), object(3)\n",
      "memory usage: 73.0+ MB\n"
     ]
    },
    {
     "data": {
      "text/plain": [
       "count    1.366817e+06\n",
       "mean     5.431629e+01\n",
       "std      4.397568e+01\n",
       "min     -1.116910e+03\n",
       "25%      3.150000e+01\n",
       "50%      4.618000e+01\n",
       "75%      6.500000e+01\n",
       "max      4.413610e+03\n",
       "Name: dollar_amt, dtype: float64"
      ]
     },
     "execution_count": 13,
     "metadata": {},
     "output_type": "execute_result"
    }
   ],
   "source": [
    "# Aperçu général des données\n",
    "Data_card_complete.info()\n",
    "\n",
    "# Aperçu statistique des variables numériques\n",
    "Data_card_complete['dollar_amt'].describe()"
   ]
  },
  {
   "cell_type": "markdown",
   "metadata": {},
   "source": [
    " ### $Commentaire$\n",
    "\n",
    "- **Valeurs manquantes**\n",
    "\n",
    "Le jeu de données présente une excellente complétude globale, avec un taux de valeurs manquantes quasi nul. Les rares valeurs manquantes observées concernent exclusivement la colonne `CASE_ID`, qui sert d’identifiant unique pour les cartes de crédit.\n",
    "Ces absences peuvent être dues à des anomalies lors de la collecte ou à des transactions isolées n’ayant pas pu être reliées à une carte spécifique. Bien que leur proportion soit négligeable, elles nécessitent une vérification, car la présence d’un identifiant manquant empêche d’associer correctement les transactions à un titulaire de carte. Selon l’ampleur du phénomène, ces enregistrements pourront être supprimés ou imputés de manière cohérente avant l’étape de modélisation.\n",
    "\n",
    "- **Montants négatifs**\n",
    "\n",
    "L’analyse descriptive du champ `dollar_amt` révèle un montant minimal de -1 116,91 dollars, indiquant la présence de valeurs négatives dans le jeu de données.\n",
    "Ces montants négatifs peuvent correspondre à des transactions de remboursement, d’ajustement de solde ou d’annulation d’achat, courantes dans le traitement des opérations financières.\n",
    "Toutefois, comme le contexte d’étude se limite à la détection de fraudes sur les paiements sortants, ces valeurs pourraient être considérées comme non pertinentes et donc exclues. Une exploration plus approfondie permettra de déterminer s’il s’agit de comportements légitimes ou d’erreurs de saisie."
   ]
  },
  {
   "cell_type": "code",
   "execution_count": 14,
   "metadata": {},
   "outputs": [
    {
     "name": "stdout",
     "output_type": "stream",
     "text": [
      "Nombre de transactions à montant négatif : 5795\n"
     ]
    },
    {
     "data": {
      "text/html": [
       "<div>\n",
       "<style scoped>\n",
       "    .dataframe tbody tr th:only-of-type {\n",
       "        vertical-align: middle;\n",
       "    }\n",
       "\n",
       "    .dataframe tbody tr th {\n",
       "        vertical-align: top;\n",
       "    }\n",
       "\n",
       "    .dataframe thead th {\n",
       "        text-align: right;\n",
       "    }\n",
       "</style>\n",
       "<table border=\"1\" class=\"dataframe\">\n",
       "  <thead>\n",
       "    <tr style=\"text-align: right;\">\n",
       "      <th></th>\n",
       "      <th>SEQ</th>\n",
       "      <th>Trans_Calendar_Date</th>\n",
       "      <th>Local_Transaction_Time</th>\n",
       "      <th>CD_TYPE</th>\n",
       "      <th>dollar_amt</th>\n",
       "      <th>CASE_ID</th>\n",
       "      <th>fraude</th>\n",
       "    </tr>\n",
       "  </thead>\n",
       "  <tbody>\n",
       "    <tr>\n",
       "      <th>702</th>\n",
       "      <td>36</td>\n",
       "      <td>10-Jul-18</td>\n",
       "      <td>10:29:44</td>\n",
       "      <td>GDC</td>\n",
       "      <td>-2.36</td>\n",
       "      <td>17.0</td>\n",
       "      <td>0</td>\n",
       "    </tr>\n",
       "    <tr>\n",
       "      <th>704</th>\n",
       "      <td>34</td>\n",
       "      <td>12-Jul-18</td>\n",
       "      <td>11:01:27</td>\n",
       "      <td>GDC</td>\n",
       "      <td>-2.20</td>\n",
       "      <td>17.0</td>\n",
       "      <td>0</td>\n",
       "    </tr>\n",
       "    <tr>\n",
       "      <th>707</th>\n",
       "      <td>31</td>\n",
       "      <td>14-Jul-18</td>\n",
       "      <td>11:24:10</td>\n",
       "      <td>GDC</td>\n",
       "      <td>-1.24</td>\n",
       "      <td>17.0</td>\n",
       "      <td>0</td>\n",
       "    </tr>\n",
       "    <tr>\n",
       "      <th>709</th>\n",
       "      <td>29</td>\n",
       "      <td>14-Jul-18</td>\n",
       "      <td>19:38:43</td>\n",
       "      <td>GDC</td>\n",
       "      <td>-2.18</td>\n",
       "      <td>17.0</td>\n",
       "      <td>0</td>\n",
       "    </tr>\n",
       "    <tr>\n",
       "      <th>712</th>\n",
       "      <td>26</td>\n",
       "      <td>17-Jul-18</td>\n",
       "      <td>12:36:07</td>\n",
       "      <td>GDC</td>\n",
       "      <td>-2.16</td>\n",
       "      <td>17.0</td>\n",
       "      <td>0</td>\n",
       "    </tr>\n",
       "  </tbody>\n",
       "</table>\n",
       "</div>"
      ],
      "text/plain": [
       "     SEQ Trans_Calendar_Date Local_Transaction_Time CD_TYPE  dollar_amt  CASE_ID  fraude\n",
       "702   36           10-Jul-18               10:29:44     GDC       -2.36     17.0       0\n",
       "704   34           12-Jul-18               11:01:27     GDC       -2.20     17.0       0\n",
       "707   31           14-Jul-18               11:24:10     GDC       -1.24     17.0       0\n",
       "709   29           14-Jul-18               19:38:43     GDC       -2.18     17.0       0\n",
       "712   26           17-Jul-18               12:36:07     GDC       -2.16     17.0       0"
      ]
     },
     "execution_count": 14,
     "metadata": {},
     "output_type": "execute_result"
    }
   ],
   "source": [
    "# Vérifier les valeurs négatives dans la colonne dollar_amt\n",
    "negatives = Data_card_complete[Data_card_complete['dollar_amt'] < 0]\n",
    "print(f\"Nombre de transactions à montant négatif : {len(negatives)}\")\n",
    "negatives.head()"
   ]
  },
  {
   "cell_type": "code",
   "execution_count": 15,
   "metadata": {},
   "outputs": [
    {
     "data": {
      "image/png": "[encoded data removed]",
      "text/plain": [
       "<Figure size 720x432 with 1 Axes>"
      ]
     },
     "metadata": {
      "needs_background": "light"
     },
     "output_type": "display_data"
    }
   ],
   "source": [
    "# Création du graphique\n",
    "plt.figure(figsize=(10,6))\n",
    "plt.scatter(\n",
    "    x=negatives.index, \n",
    "    y=negatives['dollar_amt'], \n",
    "    alpha=0.6, \n",
    "    s=20\n",
    ")\n",
    "\n",
    "# Mise en forme du graphique\n",
    "plt.title(\"Distribution des transactions à montant négatif\", fontsize=14)\n",
    "plt.xlabel(\"Index des transactions\", fontsize=12)\n",
    "plt.ylabel(\"Montant de la transaction ($)\", fontsize=12)\n",
    "plt.grid(True, linestyle=\"--\", alpha=0.5)\n",
    "plt.show()"
   ]
  },
  {
   "cell_type": "code",
   "execution_count": 16,
   "metadata": {},
   "outputs": [
    {
     "data": {
      "image/png": "[encoded data removed]",
      "text/plain": [
       "<Figure size 432x288 with 1 Axes>"
      ]
     },
     "metadata": {
      "needs_background": "light"
     },
     "output_type": "display_data"
    },
    {
     "name": "stdout",
     "output_type": "stream",
     "text": [
      "Taux de fraude dans les transactions à montant négatif : 0.00%\n"
     ]
    }
   ],
   "source": [
    "# Distribution des classes (fraude vs non fraude)\n",
    "negatives['fraude'].value_counts().plot(kind='bar')\n",
    "plt.title(\"Répartition des transactions : Frauduleuses vs Non Frauduleuses\")\n",
    "plt.xlabel(\"Classe\")\n",
    "plt.ylabel(\"Nombre de transactions\")\n",
    "plt.show()\n",
    "\n",
    "# Affichage du pourcentage de transactions frauduleuses\n",
    "fraud_ratio = negatives['fraude'].mean() * 100\n",
    "print(f\"Taux de fraude dans les transactions à montant négatif : {fraud_ratio:.2f}%\")"
   ]
  },
  {
   "cell_type": "markdown",
   "metadata": {},
   "source": [
    " ### $Commentaire$\n",
    "\n",
    "La majorité des valeurs négatives observées se situent très près de zéro, à l’exception de quelques montants isolés présentant un écart plus marqué.\n",
    "\n",
    "Étant donné que le présent projet porte sur la détection de fraudes, et que les transactions à montants négatifs correspondent généralement à des remboursements ou des annulations d’opérations, il est peu probable qu’elles soient pertinentes dans ce contexte d’analyse.\n",
    "\n",
    "Par ailleurs, aucune de ces transactions n’a été identifiée comme frauduleuse, ce qui renforce l’idée qu’elles peuvent être exclues sans incidence sur la qualité du modèle"
   ]
  },
  {
   "cell_type": "code",
   "execution_count": 17,
   "metadata": {},
   "outputs": [
    {
     "name": "stdout",
     "output_type": "stream",
     "text": [
      "\n",
      "Nombre de transactions sans ID : 4077\n",
      "Pourcentage de transactions sans ID : 0.298%\n"
     ]
    }
   ],
   "source": [
    "# Nombre et pourcentage de transactions sans identifiant de carte\n",
    "no_id = Data_card_complete[Data_card_complete['CASE_ID'].isnull()]\n",
    "nb_missing_caseid = len(no_id)\n",
    "pct_missing_caseid = (nb_missing_caseid / len(Data_card_complete)) * 100\n",
    "\n",
    "print(f\"\\nNombre de transactions sans ID : {nb_missing_caseid}\")\n",
    "print(f\"Pourcentage de transactions sans ID : {pct_missing_caseid:.3f}%\")"
   ]
  },
  {
   "cell_type": "code",
   "execution_count": 18,
   "metadata": {},
   "outputs": [
    {
     "data": {
      "image/png": "[encoded data removed]",
      "text/plain": [
       "<Figure size 432x288 with 1 Axes>"
      ]
     },
     "metadata": {
      "needs_background": "light"
     },
     "output_type": "display_data"
    },
    {
     "name": "stdout",
     "output_type": "stream",
     "text": [
      "Taux de fraude des transactions non-identifiées : 2.48%\n"
     ]
    }
   ],
   "source": [
    "# Distribution des classes (fraude vs non fraude)\n",
    "no_id['fraude'].value_counts().plot(kind='bar')\n",
    "plt.title(\"Répartition des transactions : Frauduleuses vs Non Frauduleuses\")\n",
    "plt.xlabel(\"Classe\")\n",
    "plt.ylabel(\"Nombre de transactions\")\n",
    "plt.show()\n",
    "\n",
    "# Affichage du pourcentage de transactions frauduleuses\n",
    "fraud_ratio = no_id['fraude'].mean() * 100\n",
    "print(f\"Taux de fraude des transactions non-identifiées : {fraud_ratio:.2f}%\")"
   ]
  },
  {
   "cell_type": "markdown",
   "metadata": {},
   "source": [
    "### $Commentaire$\n",
    "Les transactions non identifiées représentent environ 0,3 % de l’ensemble du jeu de données, soit 4 077 cas. Bien que leur proportion soit marginale, leur présence mérite une attention particulière, car elles traduisent une absence d’information clé (CASE_ID) susceptible de compliquer le suivi ou la traçabilité des opérations.\n",
    "\n",
    "Par ailleurs, 2,48 % de ces transactions anonymes sont signalées comme frauduleuses, un taux nettement supérieur à la moyenne globale de 0,57 %. Cette surreprésentation laisse penser que l’anonymat pourrait constituer un facteur de risque accru de fraude, ou du moins un indicateur d’irrégularité dans la collecte ou la saisie des données.\n",
    "\n",
    "Il serait donc pertinent d’approfondir l’analyse de ces cas afin de déterminer s’ils résultent d’un défaut technique de saisie, d’un masquage volontaire, ou d’une tentative de dissimulation d’activité frauduleuse."
   ]
  },
  {
   "cell_type": "markdown",
   "metadata": {},
   "source": [
    "# 4. Data Cleaning"
   ]
  },
  {
   "cell_type": "code",
   "execution_count": null,
   "metadata": {},
   "outputs": [],
   "source": []
  }
 ],
 "metadata": {
  "kernelspec": {
   "display_name": "Python 3",
   "language": "python",
   "name": "python3"
  },
  "language_info": {
   "codemirror_mode": {
    "name": "ipython",
    "version": 3
   },
   "file_extension": ".py",
   "mimetype": "text/x-python",
   "name": "python",
   "nbconvert_exporter": "python",
   "pygments_lexer": "ipython3",
   "version": "3.8.5"
  }
 },
 "nbformat": 4,
 "nbformat_minor": 4
}
