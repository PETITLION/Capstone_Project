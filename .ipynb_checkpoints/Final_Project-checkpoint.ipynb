{
 "cells": [
  {
   "cell_type": "markdown",
   "metadata": {},
   "source": [
    "### $$ Analystes :\\;\\;\\;\\;\\;\\;\\;\\;\\;\\;\\; Jeff \\; Lwear \\; DUVERSEAU \\;et \\;Lionel \\;PETIOTE$$"
   ]
  },
  {
   "cell_type": "markdown",
   "metadata": {},
   "source": [
    "# Project Title :\n",
    "\n",
    "# **$$\\ Credit\\ Card \\ Fraud\\ Detection\\ Using\\ Supervised\\ Machine\\ Learning \\ $$**"
   ]
  },
  {
   "cell_type": "markdown",
   "metadata": {},
   "source": [
    "# 1. Overview\n",
    "\n",
    "#### Ce projet vise à concevoir un modèle prédictif capable d’identifier les transactions frauduleuses effectuées par carte de crédit à l’aide de techniques d’apprentissage supervisé. Le jeu de données comprend plus d’un million de transactions issues de cartes authentiques et compromises, chacune contenant un historique détaillé. L’objectif est de mettre en place un système de classification performant permettant de détecter en temps quasi réel les anomalies et de réduire les pertes financières associées à la fraude.\n",
    "\n",
    "#### Ce projet se positionne ainsi comme une étape clé vers la mise en œuvre de solutions intelligentes de cybersécurité financière."
   ]
  },
  {
   "cell_type": "markdown",
   "metadata": {},
   "source": [
    "## 1.1. Business Understanding\n",
    "\n",
    "#### La fraude par carte de crédit représente un défi majeur pour les institutions financières, tant sur le plan économique que réputationnel. Elle se caractérise par une faible proportion de cas frauduleux et par l’évolution constante des méthodes de fraude, ce qui complique leur détection. Ce projet s’inscrit dans une démarche d’aide à la décision visant à automatiser la détection de comportements suspects grâce à l’analyse de données transactionnelles et à l’intelligence artificielle.\n",
    "\n",
    "#### Dans cette optique, les objectifs ci-dessous ont été définis pour orienter le processus analytique."
   ]
  },
  {
   "cell_type": "markdown",
   "metadata": {},
   "source": [
    " ## 1.2. Objectifs\n",
    " \n",
    " ### 1.2.1. Objectif général\n",
    " \n",
    "#### Développer un modèle d’apprentissage supervisé capable de prédire avec précision le caractère frauduleux ou non d’une transaction par carte de crédit à partir des données historiques.\n",
    "\n",
    "### 1.2.2. Objectifs spécifiques\n",
    "\n",
    "#### Identifier et sélectionner les variables les plus discriminantes permettant de différencier les comportements normaux des comportements suspects.\n",
    "\n",
    "#### Entraîner, tester et comparer plusieurs modèles de classification afin de retenir celui offrant la meilleure performance pour la détection de fraude."
   ]
  },
  {
   "cell_type": "markdown",
   "metadata": {},
   "source": [
    "## 2. Importations\n",
    "## 2.1. Importation des bibliothèques"
   ]
  },
  {
   "cell_type": "code",
   "execution_count": 1,
   "metadata": {},
   "outputs": [],
   "source": [
    "# Manipulation des données\n",
    "import pandas as pd\n",
    "import numpy as np\n",
    "\n",
    "# Visualisation\n",
    "import matplotlib.pyplot as plt\n",
    "import seaborn as sns\n",
    "\n",
    "# Machine Learning\n",
    "from sklearn.model_selection import train_test_split\n",
    "from sklearn.preprocessing import StandardScaler, OneHotEncoder\n",
    "from scipy.stats import chi2_contingency\n",
    "from sklearn.compose import ColumnTransformer\n",
    "from sklearn.pipeline import Pipeline\n",
    "from sklearn.ensemble import RandomForestClassifier\n",
    "from sklearn.metrics import classification_report, confusion_matrix, roc_auc_score, roc_curve\n",
    "\n",
    "# Gestion des avertissements\n",
    "import warnings\n",
    "warnings.filterwarnings('ignore')\n",
    "\n",
    "# Options d’affichage\n",
    "pd.set_option('display.max_columns', None)\n",
    "pd.set_option('display.width', 120)"
   ]
  },
  {
   "cell_type": "markdown",
   "metadata": {},
   "source": [
    "## 2.1. Importation des données"
   ]
  },
  {
   "cell_type": "code",
   "execution_count": 2,
   "metadata": {},
   "outputs": [
    {
     "name": "stdout",
     "output_type": "stream",
     "text": [
      "Données importées avec succès !\n",
      "gdc1 : (350000, 8)\n",
      "gdc2 : (350000, 8)\n",
      "gdc3 : (348575, 8)\n",
      "wpc  : (318242, 7)\n"
     ]
    }
   ],
   "source": [
    "# Fichiers de cartes authentiques\n",
    "gdc1 = pd.read_csv(\"IDXDataset_gdc01.csv\")\n",
    "gdc2 = pd.read_csv(\"IDXDataset_gdc02.csv\")\n",
    "gdc3 = pd.read_csv(\"IDXDataset_gdc03.csv\")\n",
    "\n",
    "# Fichier des cartes compromises\n",
    "wpc = pd.read_csv(\"IDXDataset_wpc.csv\")\n",
    "\n",
    "# Vérification rapide\n",
    "print(\"Données importées avec succès !\")\n",
    "print(f\"gdc1 : {gdc1.shape}\")\n",
    "print(f\"gdc2 : {gdc2.shape}\")\n",
    "print(f\"gdc3 : {gdc3.shape}\")\n",
    "print(f\"wpc  : {wpc.shape}\")"
   ]
  },
  {
   "cell_type": "code",
   "execution_count": 3,
   "metadata": {},
   "outputs": [
    {
     "name": "stdout",
     "output_type": "stream",
     "text": [
      "La structure de la table gdc1 est la suivante :\n"
     ]
    },
    {
     "data": {
      "text/html": [
       "<div>\n",
       "<style scoped>\n",
       "    .dataframe tbody tr th:only-of-type {\n",
       "        vertical-align: middle;\n",
       "    }\n",
       "\n",
       "    .dataframe tbody tr th {\n",
       "        vertical-align: top;\n",
       "    }\n",
       "\n",
       "    .dataframe thead th {\n",
       "        text-align: right;\n",
       "    }\n",
       "</style>\n",
       "<table border=\"1\" class=\"dataframe\">\n",
       "  <thead>\n",
       "    <tr style=\"text-align: right;\">\n",
       "      <th></th>\n",
       "      <th>Unnamed: 0</th>\n",
       "      <th>SEQ</th>\n",
       "      <th>Trans_Calendar_Date</th>\n",
       "      <th>Local_Transaction_Time</th>\n",
       "      <th>CD_TYPE</th>\n",
       "      <th>dollar_amt</th>\n",
       "      <th>CTR</th>\n",
       "      <th>CASE_ID</th>\n",
       "    </tr>\n",
       "  </thead>\n",
       "  <tbody>\n",
       "    <tr>\n",
       "      <th>0</th>\n",
       "      <td>1</td>\n",
       "      <td>41</td>\n",
       "      <td>24-Mar-18</td>\n",
       "      <td>15:54:06</td>\n",
       "      <td>GDC</td>\n",
       "      <td>44.20</td>\n",
       "      <td>1</td>\n",
       "      <td>0</td>\n",
       "    </tr>\n",
       "    <tr>\n",
       "      <th>1</th>\n",
       "      <td>2</td>\n",
       "      <td>40</td>\n",
       "      <td>26-Mar-18</td>\n",
       "      <td>11:06:31</td>\n",
       "      <td>GDC</td>\n",
       "      <td>57.78</td>\n",
       "      <td>2</td>\n",
       "      <td>0</td>\n",
       "    </tr>\n",
       "    <tr>\n",
       "      <th>2</th>\n",
       "      <td>3</td>\n",
       "      <td>39</td>\n",
       "      <td>27-Mar-18</td>\n",
       "      <td>13:03:02</td>\n",
       "      <td>GDC</td>\n",
       "      <td>37.30</td>\n",
       "      <td>3</td>\n",
       "      <td>0</td>\n",
       "    </tr>\n",
       "    <tr>\n",
       "      <th>3</th>\n",
       "      <td>4</td>\n",
       "      <td>38</td>\n",
       "      <td>4-Apr-18</td>\n",
       "      <td>13:35:02</td>\n",
       "      <td>GDC</td>\n",
       "      <td>88.32</td>\n",
       "      <td>4</td>\n",
       "      <td>0</td>\n",
       "    </tr>\n",
       "    <tr>\n",
       "      <th>4</th>\n",
       "      <td>5</td>\n",
       "      <td>37</td>\n",
       "      <td>4-Apr-18</td>\n",
       "      <td>18:53:21</td>\n",
       "      <td>GDC</td>\n",
       "      <td>46.74</td>\n",
       "      <td>5</td>\n",
       "      <td>0</td>\n",
       "    </tr>\n",
       "  </tbody>\n",
       "</table>\n",
       "</div>"
      ],
      "text/plain": [
       "   Unnamed: 0  SEQ Trans_Calendar_Date Local_Transaction_Time CD_TYPE  dollar_amt  CTR  CASE_ID\n",
       "0           1   41           24-Mar-18               15:54:06     GDC       44.20    1        0\n",
       "1           2   40           26-Mar-18               11:06:31     GDC       57.78    2        0\n",
       "2           3   39           27-Mar-18               13:03:02     GDC       37.30    3        0\n",
       "3           4   38            4-Apr-18               13:35:02     GDC       88.32    4        0\n",
       "4           5   37            4-Apr-18               18:53:21     GDC       46.74    5        0"
      ]
     },
     "execution_count": 3,
     "metadata": {},
     "output_type": "execute_result"
    }
   ],
   "source": [
    "# Aperçu détaillés des différents fichiers\n",
    "print(\"La structure de la table gdc1 est la suivante :\")\n",
    "gdc1.head()"
   ]
  },
  {
   "cell_type": "code",
   "execution_count": 4,
   "metadata": {},
   "outputs": [
    {
     "name": "stdout",
     "output_type": "stream",
     "text": [
      "La structure de la table gdc2 est la suivante :\n"
     ]
    },
    {
     "data": {
      "text/html": [
       "<div>\n",
       "<style scoped>\n",
       "    .dataframe tbody tr th:only-of-type {\n",
       "        vertical-align: middle;\n",
       "    }\n",
       "\n",
       "    .dataframe tbody tr th {\n",
       "        vertical-align: top;\n",
       "    }\n",
       "\n",
       "    .dataframe thead th {\n",
       "        text-align: right;\n",
       "    }\n",
       "</style>\n",
       "<table border=\"1\" class=\"dataframe\">\n",
       "  <thead>\n",
       "    <tr style=\"text-align: right;\">\n",
       "      <th></th>\n",
       "      <th>Unnamed: 0</th>\n",
       "      <th>SEQ</th>\n",
       "      <th>Trans_Calendar_Date</th>\n",
       "      <th>Local_Transaction_Time</th>\n",
       "      <th>CD_TYPE</th>\n",
       "      <th>dollar_amt</th>\n",
       "      <th>CTR</th>\n",
       "      <th>CASE_ID</th>\n",
       "    </tr>\n",
       "  </thead>\n",
       "  <tbody>\n",
       "    <tr>\n",
       "      <th>0</th>\n",
       "      <td>350001</td>\n",
       "      <td>17</td>\n",
       "      <td>29-May-18</td>\n",
       "      <td>14:08:24</td>\n",
       "      <td>GDC</td>\n",
       "      <td>49.29</td>\n",
       "      <td>350001</td>\n",
       "      <td>8536</td>\n",
       "    </tr>\n",
       "    <tr>\n",
       "      <th>1</th>\n",
       "      <td>350002</td>\n",
       "      <td>16</td>\n",
       "      <td>1-Jun-18</td>\n",
       "      <td>11:19:27</td>\n",
       "      <td>GDC</td>\n",
       "      <td>67.67</td>\n",
       "      <td>350002</td>\n",
       "      <td>8536</td>\n",
       "    </tr>\n",
       "    <tr>\n",
       "      <th>2</th>\n",
       "      <td>350003</td>\n",
       "      <td>15</td>\n",
       "      <td>6-Jun-18</td>\n",
       "      <td>5:53:43</td>\n",
       "      <td>GDC</td>\n",
       "      <td>57.85</td>\n",
       "      <td>350003</td>\n",
       "      <td>8536</td>\n",
       "    </tr>\n",
       "    <tr>\n",
       "      <th>3</th>\n",
       "      <td>350004</td>\n",
       "      <td>14</td>\n",
       "      <td>9-Jun-18</td>\n",
       "      <td>6:37:50</td>\n",
       "      <td>GDC</td>\n",
       "      <td>51.09</td>\n",
       "      <td>350004</td>\n",
       "      <td>8536</td>\n",
       "    </tr>\n",
       "    <tr>\n",
       "      <th>4</th>\n",
       "      <td>350005</td>\n",
       "      <td>13</td>\n",
       "      <td>13-Jun-18</td>\n",
       "      <td>5:22:14</td>\n",
       "      <td>GDC</td>\n",
       "      <td>47.16</td>\n",
       "      <td>350005</td>\n",
       "      <td>8536</td>\n",
       "    </tr>\n",
       "  </tbody>\n",
       "</table>\n",
       "</div>"
      ],
      "text/plain": [
       "   Unnamed: 0  SEQ Trans_Calendar_Date Local_Transaction_Time CD_TYPE  dollar_amt     CTR  CASE_ID\n",
       "0      350001   17           29-May-18               14:08:24     GDC       49.29  350001     8536\n",
       "1      350002   16            1-Jun-18               11:19:27     GDC       67.67  350002     8536\n",
       "2      350003   15            6-Jun-18                5:53:43     GDC       57.85  350003     8536\n",
       "3      350004   14            9-Jun-18                6:37:50     GDC       51.09  350004     8536\n",
       "4      350005   13           13-Jun-18                5:22:14     GDC       47.16  350005     8536"
      ]
     },
     "execution_count": 4,
     "metadata": {},
     "output_type": "execute_result"
    }
   ],
   "source": [
    "# Aperçu détaillés des différents fichiers\n",
    "print(\"La structure de la table gdc2 est la suivante :\")\n",
    "gdc2.head()"
   ]
  },
  {
   "cell_type": "code",
   "execution_count": 5,
   "metadata": {},
   "outputs": [
    {
     "name": "stdout",
     "output_type": "stream",
     "text": [
      "La structure de la table gdc3 est la suivante :\n"
     ]
    },
    {
     "data": {
      "text/html": [
       "<div>\n",
       "<style scoped>\n",
       "    .dataframe tbody tr th:only-of-type {\n",
       "        vertical-align: middle;\n",
       "    }\n",
       "\n",
       "    .dataframe tbody tr th {\n",
       "        vertical-align: top;\n",
       "    }\n",
       "\n",
       "    .dataframe thead th {\n",
       "        text-align: right;\n",
       "    }\n",
       "</style>\n",
       "<table border=\"1\" class=\"dataframe\">\n",
       "  <thead>\n",
       "    <tr style=\"text-align: right;\">\n",
       "      <th></th>\n",
       "      <th>Unnamed: 0</th>\n",
       "      <th>SEQ</th>\n",
       "      <th>Trans_Calendar_Date</th>\n",
       "      <th>Local_Transaction_Time</th>\n",
       "      <th>CD_TYPE</th>\n",
       "      <th>dollar_amt</th>\n",
       "      <th>CTR</th>\n",
       "      <th>CASE_ID</th>\n",
       "    </tr>\n",
       "  </thead>\n",
       "  <tbody>\n",
       "    <tr>\n",
       "      <th>0</th>\n",
       "      <td>700001</td>\n",
       "      <td>34</td>\n",
       "      <td>7-Dec-17</td>\n",
       "      <td>11:11:10</td>\n",
       "      <td>GDC</td>\n",
       "      <td>34.15</td>\n",
       "      <td>700001</td>\n",
       "      <td>17073</td>\n",
       "    </tr>\n",
       "    <tr>\n",
       "      <th>1</th>\n",
       "      <td>700002</td>\n",
       "      <td>33</td>\n",
       "      <td>15-Dec-17</td>\n",
       "      <td>15:48:05</td>\n",
       "      <td>GDC</td>\n",
       "      <td>33.00</td>\n",
       "      <td>700002</td>\n",
       "      <td>17073</td>\n",
       "    </tr>\n",
       "    <tr>\n",
       "      <th>2</th>\n",
       "      <td>700003</td>\n",
       "      <td>32</td>\n",
       "      <td>27-Dec-17</td>\n",
       "      <td>9:40:44</td>\n",
       "      <td>GDC</td>\n",
       "      <td>33.48</td>\n",
       "      <td>700003</td>\n",
       "      <td>17073</td>\n",
       "    </tr>\n",
       "    <tr>\n",
       "      <th>3</th>\n",
       "      <td>700004</td>\n",
       "      <td>31</td>\n",
       "      <td>5-Jan-18</td>\n",
       "      <td>12:59:46</td>\n",
       "      <td>GDC</td>\n",
       "      <td>35.41</td>\n",
       "      <td>700004</td>\n",
       "      <td>17073</td>\n",
       "    </tr>\n",
       "    <tr>\n",
       "      <th>4</th>\n",
       "      <td>700005</td>\n",
       "      <td>30</td>\n",
       "      <td>15-Jan-18</td>\n",
       "      <td>18:23:28</td>\n",
       "      <td>GDC</td>\n",
       "      <td>38.46</td>\n",
       "      <td>700005</td>\n",
       "      <td>17073</td>\n",
       "    </tr>\n",
       "  </tbody>\n",
       "</table>\n",
       "</div>"
      ],
      "text/plain": [
       "   Unnamed: 0  SEQ Trans_Calendar_Date Local_Transaction_Time CD_TYPE  dollar_amt     CTR  CASE_ID\n",
       "0      700001   34            7-Dec-17               11:11:10     GDC       34.15  700001    17073\n",
       "1      700002   33           15-Dec-17               15:48:05     GDC       33.00  700002    17073\n",
       "2      700003   32           27-Dec-17                9:40:44     GDC       33.48  700003    17073\n",
       "3      700004   31            5-Jan-18               12:59:46     GDC       35.41  700004    17073\n",
       "4      700005   30           15-Jan-18               18:23:28     GDC       38.46  700005    17073"
      ]
     },
     "execution_count": 5,
     "metadata": {},
     "output_type": "execute_result"
    }
   ],
   "source": [
    "# Aperçu détaillés des différents fichiers\n",
    "print(\"La structure de la table gdc3 est la suivante :\")\n",
    "gdc3.head()"
   ]
  },
  {
   "cell_type": "code",
   "execution_count": 6,
   "metadata": {},
   "outputs": [
    {
     "name": "stdout",
     "output_type": "stream",
     "text": [
      "La structure de la table wpc est la suivante :\n"
     ]
    },
    {
     "data": {
      "text/html": [
       "<div>\n",
       "<style scoped>\n",
       "    .dataframe tbody tr th:only-of-type {\n",
       "        vertical-align: middle;\n",
       "    }\n",
       "\n",
       "    .dataframe tbody tr th {\n",
       "        vertical-align: top;\n",
       "    }\n",
       "\n",
       "    .dataframe thead th {\n",
       "        text-align: right;\n",
       "    }\n",
       "</style>\n",
       "<table border=\"1\" class=\"dataframe\">\n",
       "  <thead>\n",
       "    <tr style=\"text-align: right;\">\n",
       "      <th></th>\n",
       "      <th>SEQ</th>\n",
       "      <th>Trans_Calendar_Date</th>\n",
       "      <th>Local_Transaction_Time</th>\n",
       "      <th>CASE_ID</th>\n",
       "      <th>WP_YN</th>\n",
       "      <th>CD_TYPE</th>\n",
       "      <th>dollar_amt</th>\n",
       "    </tr>\n",
       "  </thead>\n",
       "  <tbody>\n",
       "    <tr>\n",
       "      <th>0</th>\n",
       "      <td>41</td>\n",
       "      <td>25-Apr-17</td>\n",
       "      <td>6:27:00</td>\n",
       "      <td>176765465.0</td>\n",
       "      <td>0</td>\n",
       "      <td>WPC</td>\n",
       "      <td>57.01</td>\n",
       "    </tr>\n",
       "    <tr>\n",
       "      <th>1</th>\n",
       "      <td>40</td>\n",
       "      <td>26-Apr-17</td>\n",
       "      <td>17:07:00</td>\n",
       "      <td>176765465.0</td>\n",
       "      <td>0</td>\n",
       "      <td>WPC</td>\n",
       "      <td>57.81</td>\n",
       "    </tr>\n",
       "    <tr>\n",
       "      <th>2</th>\n",
       "      <td>39</td>\n",
       "      <td>28-Apr-17</td>\n",
       "      <td>5:05:00</td>\n",
       "      <td>176765465.0</td>\n",
       "      <td>0</td>\n",
       "      <td>WPC</td>\n",
       "      <td>39.95</td>\n",
       "    </tr>\n",
       "    <tr>\n",
       "      <th>3</th>\n",
       "      <td>38</td>\n",
       "      <td>1-May-17</td>\n",
       "      <td>7:43:37</td>\n",
       "      <td>176765465.0</td>\n",
       "      <td>0</td>\n",
       "      <td>WPC</td>\n",
       "      <td>58.18</td>\n",
       "    </tr>\n",
       "    <tr>\n",
       "      <th>4</th>\n",
       "      <td>37</td>\n",
       "      <td>2-May-17</td>\n",
       "      <td>15:09:06</td>\n",
       "      <td>176765465.0</td>\n",
       "      <td>0</td>\n",
       "      <td>WPC</td>\n",
       "      <td>58.35</td>\n",
       "    </tr>\n",
       "  </tbody>\n",
       "</table>\n",
       "</div>"
      ],
      "text/plain": [
       "   SEQ Trans_Calendar_Date Local_Transaction_Time      CASE_ID  WP_YN CD_TYPE  dollar_amt\n",
       "0   41           25-Apr-17                6:27:00  176765465.0      0     WPC       57.01\n",
       "1   40           26-Apr-17               17:07:00  176765465.0      0     WPC       57.81\n",
       "2   39           28-Apr-17                5:05:00  176765465.0      0     WPC       39.95\n",
       "3   38            1-May-17                7:43:37  176765465.0      0     WPC       58.18\n",
       "4   37            2-May-17               15:09:06  176765465.0      0     WPC       58.35"
      ]
     },
     "execution_count": 6,
     "metadata": {},
     "output_type": "execute_result"
    }
   ],
   "source": [
    "# Aperçu détaillés des différents fichiers\n",
    "print(\"La structure de la table wpc est la suivante :\")\n",
    "wpc.head()"
   ]
  },
  {
   "cell_type": "markdown",
   "metadata": {},
   "source": [
    "### $Commentaire$\n",
    "\n",
    "#### Compréhension des données\n",
    "\n",
    "Les fichiers `gdc1`, `gdc2` et `gdc3` contiennent des transactions légitimes effectuées à partir de **25 575 cartes de crédit**, chacune enregistrant **41 transactions** (soit environ 1 048 575 lignes). Chaque carte est identifiée par un `CASE_ID` unique répété 41 fois, et les transactions sont ordonnées selon la séquence `SEQ` (de 41 à 1). Les colonnes `CTR` et `Unnamed:0` ne sont que des identifiants techniques sans utilité analytique.\n",
    "\n",
    "Le fichier `wpc` regroupe **7 762 cartes compromises**, également dotées de 41 transactions chacune (≈ 318 242 lignes). Contrairement aux fichiers GDC, il inclut une colonne `WP_YN` qui précise la nature de la transaction : **1 pour une transaction frauduleuse (toujours la plus récente, SEQ=1)** et 0 sinon. L’ordre de ses colonnes diffère légèrement, mais la structure reste compatible."
   ]
  },
  {
   "cell_type": "markdown",
   "metadata": {},
   "source": [
    "## Fusion des fichiers `gdc1`, `gdc2` et `gdc3`\n",
    "Les fichiers `gdc1`, `gdc2` et `gdc3` présentent la même structure et peuvent du coup se fusionner sans difficulté."
   ]
  },
  {
   "cell_type": "code",
   "execution_count": 7,
   "metadata": {},
   "outputs": [
    {
     "data": {
      "text/plain": [
       "(1048575, 8)"
      ]
     },
     "execution_count": 7,
     "metadata": {},
     "output_type": "execute_result"
    }
   ],
   "source": [
    "# Fusion initiale\n",
    "Data_card = pd.concat([gdc1, gdc2, gdc3], ignore_index=True)\n",
    "Data_card.shape"
   ]
  },
  {
   "cell_type": "markdown",
   "metadata": {},
   "source": [
    "## Suppression des colonnes Unnamed.0 et CTR\n",
    "Les colonnes Unnamed.0 et CTR donnent la même information, il s'agit d'un indentifiant de transaction et du coup ne présentent pas de réelle utilité analytique. Donc, on peut se permettre de les supprimer."
   ]
  },
  {
   "cell_type": "code",
   "execution_count": 8,
   "metadata": {},
   "outputs": [],
   "source": [
    "# Suppression des colonnes Unnamed:0 et CTR\n",
    "Data_card = Data_card.drop(['Unnamed: 0', 'CTR'], axis=1)"
   ]
  },
  {
   "cell_type": "code",
   "execution_count": 9,
   "metadata": {},
   "outputs": [
    {
     "name": "stdout",
     "output_type": "stream",
     "text": [
      "Colonnes gdc1: {'SEQ', 'Local_Transaction_Time', 'CASE_ID', 'dollar_amt', 'CD_TYPE', 'Trans_Calendar_Date'}\n",
      "Colonnes wpc : {'SEQ', 'Local_Transaction_Time', 'WP_YN', 'CASE_ID', 'dollar_amt', 'CD_TYPE', 'Trans_Calendar_Date'}\n",
      "\n",
      "Colonnes manquantes dans wpc : set()\n",
      "Colonnes supplémentaires dans wpc : {'WP_YN'}\n"
     ]
    }
   ],
   "source": [
    "# Comparer les colonnes entre les DataFrames\n",
    "print(\"Colonnes gdc1:\", set(Data_card.columns))\n",
    "print(\"Colonnes wpc :\", set(wpc.columns))\n",
    "\n",
    "# Colonnes manquantes ou différentes\n",
    "print(\"\\nColonnes manquantes dans wpc :\", set(Data_card.columns) - set(wpc.columns))\n",
    "print(\"Colonnes supplémentaires dans wpc :\", set(wpc.columns) - set(Data_card.columns))"
   ]
  },
  {
   "cell_type": "code",
   "execution_count": 10,
   "metadata": {},
   "outputs": [
    {
     "name": "stdout",
     "output_type": "stream",
     "text": [
      "Dimensions : (1366817, 7)\n",
      "Répartition des classes :\n",
      "0    1359055\n",
      "1       7762\n",
      "Name: fraude, dtype: int64\n",
      "\n",
      "Aperçu :\n"
     ]
    },
    {
     "data": {
      "text/html": [
       "<div>\n",
       "<style scoped>\n",
       "    .dataframe tbody tr th:only-of-type {\n",
       "        vertical-align: middle;\n",
       "    }\n",
       "\n",
       "    .dataframe tbody tr th {\n",
       "        vertical-align: top;\n",
       "    }\n",
       "\n",
       "    .dataframe thead th {\n",
       "        text-align: right;\n",
       "    }\n",
       "</style>\n",
       "<table border=\"1\" class=\"dataframe\">\n",
       "  <thead>\n",
       "    <tr style=\"text-align: right;\">\n",
       "      <th></th>\n",
       "      <th>SEQ</th>\n",
       "      <th>Trans_Calendar_Date</th>\n",
       "      <th>Local_Transaction_Time</th>\n",
       "      <th>CD_TYPE</th>\n",
       "      <th>dollar_amt</th>\n",
       "      <th>CASE_ID</th>\n",
       "      <th>fraude</th>\n",
       "    </tr>\n",
       "  </thead>\n",
       "  <tbody>\n",
       "    <tr>\n",
       "      <th>0</th>\n",
       "      <td>41</td>\n",
       "      <td>24-Mar-18</td>\n",
       "      <td>15:54:06</td>\n",
       "      <td>GDC</td>\n",
       "      <td>44.20</td>\n",
       "      <td>0.0</td>\n",
       "      <td>0</td>\n",
       "    </tr>\n",
       "    <tr>\n",
       "      <th>1</th>\n",
       "      <td>40</td>\n",
       "      <td>26-Mar-18</td>\n",
       "      <td>11:06:31</td>\n",
       "      <td>GDC</td>\n",
       "      <td>57.78</td>\n",
       "      <td>0.0</td>\n",
       "      <td>0</td>\n",
       "    </tr>\n",
       "    <tr>\n",
       "      <th>2</th>\n",
       "      <td>39</td>\n",
       "      <td>27-Mar-18</td>\n",
       "      <td>13:03:02</td>\n",
       "      <td>GDC</td>\n",
       "      <td>37.30</td>\n",
       "      <td>0.0</td>\n",
       "      <td>0</td>\n",
       "    </tr>\n",
       "    <tr>\n",
       "      <th>3</th>\n",
       "      <td>38</td>\n",
       "      <td>4-Apr-18</td>\n",
       "      <td>13:35:02</td>\n",
       "      <td>GDC</td>\n",
       "      <td>88.32</td>\n",
       "      <td>0.0</td>\n",
       "      <td>0</td>\n",
       "    </tr>\n",
       "    <tr>\n",
       "      <th>4</th>\n",
       "      <td>37</td>\n",
       "      <td>4-Apr-18</td>\n",
       "      <td>18:53:21</td>\n",
       "      <td>GDC</td>\n",
       "      <td>46.74</td>\n",
       "      <td>0.0</td>\n",
       "      <td>0</td>\n",
       "    </tr>\n",
       "  </tbody>\n",
       "</table>\n",
       "</div>"
      ],
      "text/plain": [
       "   SEQ Trans_Calendar_Date Local_Transaction_Time CD_TYPE  dollar_amt  CASE_ID  fraude\n",
       "0   41           24-Mar-18               15:54:06     GDC       44.20      0.0       0\n",
       "1   40           26-Mar-18               11:06:31     GDC       57.78      0.0       0\n",
       "2   39           27-Mar-18               13:03:02     GDC       37.30      0.0       0\n",
       "3   38            4-Apr-18               13:35:02     GDC       88.32      0.0       0\n",
       "4   37            4-Apr-18               18:53:21     GDC       46.74      0.0       0"
      ]
     },
     "execution_count": 10,
     "metadata": {},
     "output_type": "execute_result"
    }
   ],
   "source": [
    "# Harmoniser les colonnes\n",
    "common_cols = [col for col in Data_card.columns if col in wpc.columns]\n",
    "wpc = wpc[common_cols + ['WP_YN']] if 'WP_YN' in wpc.columns else wpc[common_cols]\n",
    "\n",
    "# Création de la variable cible 'fraude'\n",
    "wpc['fraude'] = wpc['WP_YN'].apply(lambda x: 1 if x == 1 else 0)\n",
    "Data_card['fraude'] = 0\n",
    "\n",
    "# Supprimer la colonne WP_YN\n",
    "wpc_clean = wpc.drop(columns=['WP_YN'], errors='ignore')\n",
    "\n",
    "# Fusion globale\n",
    "Data_card_complete = pd.concat([Data_card, wpc_clean], ignore_index=True)\n",
    "\n",
    "# Vérifications de cohérence\n",
    "print(\"Dimensions :\", Data_card_complete.shape)\n",
    "print(\"Répartition des classes :\")\n",
    "print(Data_card_complete['fraude'].value_counts())\n",
    "print(\"\\nAperçu :\")\n",
    "Data_card_complete.head()"
   ]
  },
  {
   "cell_type": "markdown",
   "metadata": {},
   "source": [
    "# 3. Exploratory Data Analysis"
   ]
  },
  {
   "cell_type": "code",
   "execution_count": 11,
   "metadata": {},
   "outputs": [
    {
     "data": {
      "image/png": "[encoded data removed]",
      "text/plain": [
       "<Figure size 432x288 with 1 Axes>"
      ]
     },
     "metadata": {
      "needs_background": "light"
     },
     "output_type": "display_data"
    },
    {
     "name": "stdout",
     "output_type": "stream",
     "text": [
      "Taux de fraude dans le dataset : 0.57%\n"
     ]
    }
   ],
   "source": [
    "# Distribution des classes (fraude vs non fraude)\n",
    "Data_card_complete['fraude'].value_counts().plot(kind='bar')\n",
    "plt.title(\"Répartition des transactions : Frauduleuses vs Non Frauduleuses\")\n",
    "plt.xlabel(\"Classe\")\n",
    "plt.ylabel(\"Nombre de transactions\")\n",
    "plt.show()\n",
    "\n",
    "# Affichage du pourcentage de transactions frauduleuses\n",
    "fraud_ratio = Data_card_complete['fraude'].mean() * 100\n",
    "print(f\"Taux de fraude dans le dataset : {fraud_ratio:.2f}%\")"
   ]
  },
  {
   "cell_type": "markdown",
   "metadata": {},
   "source": [
    " ### $Commentaire$\n",
    "\n",
    "Le taux global de fraude observé dans le jeu de données est particulièrement faible, avoisinant 0,57 %. Cette faible proportion traduit une forte prédominance des transactions légitimes, ce qui est généralement le cas dans les systèmes de paiement réels où les fraudes représentent une minorité marginale des opérations totales.\n",
    "\n",
    "Cependant, cette déséquilibre marqué entre classes (transactions frauduleuses vs non frauduleuses) constitue un défi majeur pour la modélisation : les algorithmes d’apprentissage risquent de favoriser la classe majoritaire, en négligeant les cas rares mais cruciaux de fraude.\n",
    "\n",
    "**Ainsi, il sera nécessaire d’adopter des stratégies spécifiques de gestion du déséquilibre des classes, telles que** :\n",
    "\n",
    "- la rééchantillonnage (oversampling ou undersampling),\n",
    "- l’utilisation de poids de classes ajustés,\n",
    "- ou encore le recours à des modèles robustes face aux données déséquilibrées."
   ]
  },
  {
   "cell_type": "code",
   "execution_count": 12,
   "metadata": {},
   "outputs": [
    {
     "data": {
      "image/png": "[encoded data removed]",
      "text/plain": [
       "<Figure size 720x432 with 1 Axes>"
      ]
     },
     "metadata": {
      "needs_background": "light"
     },
     "output_type": "display_data"
    },
    {
     "data": {
      "text/html": [
       "<div>\n",
       "<style scoped>\n",
       "    .dataframe tbody tr th:only-of-type {\n",
       "        vertical-align: middle;\n",
       "    }\n",
       "\n",
       "    .dataframe tbody tr th {\n",
       "        vertical-align: top;\n",
       "    }\n",
       "\n",
       "    .dataframe thead th {\n",
       "        text-align: right;\n",
       "    }\n",
       "</style>\n",
       "<table border=\"1\" class=\"dataframe\">\n",
       "  <thead>\n",
       "    <tr style=\"text-align: right;\">\n",
       "      <th></th>\n",
       "      <th>count</th>\n",
       "      <th>mean</th>\n",
       "      <th>std</th>\n",
       "      <th>min</th>\n",
       "      <th>25%</th>\n",
       "      <th>50%</th>\n",
       "      <th>75%</th>\n",
       "      <th>max</th>\n",
       "    </tr>\n",
       "    <tr>\n",
       "      <th>fraude</th>\n",
       "      <th></th>\n",
       "      <th></th>\n",
       "      <th></th>\n",
       "      <th></th>\n",
       "      <th></th>\n",
       "      <th></th>\n",
       "      <th></th>\n",
       "      <th></th>\n",
       "    </tr>\n",
       "  </thead>\n",
       "  <tbody>\n",
       "    <tr>\n",
       "      <th>0</th>\n",
       "      <td>1359055.0</td>\n",
       "      <td>53.640954</td>\n",
       "      <td>42.268213</td>\n",
       "      <td>-1116.91</td>\n",
       "      <td>31.420</td>\n",
       "      <td>46.01</td>\n",
       "      <td>64.59</td>\n",
       "      <td>4413.61</td>\n",
       "    </tr>\n",
       "    <tr>\n",
       "      <th>1</th>\n",
       "      <td>7762.0</td>\n",
       "      <td>172.561364</td>\n",
       "      <td>116.865552</td>\n",
       "      <td>0.03</td>\n",
       "      <td>124.485</td>\n",
       "      <td>150.00</td>\n",
       "      <td>200.00</td>\n",
       "      <td>1020.49</td>\n",
       "    </tr>\n",
       "  </tbody>\n",
       "</table>\n",
       "</div>"
      ],
      "text/plain": [
       "            count        mean         std      min      25%     50%     75%      max\n",
       "fraude                                                                              \n",
       "0       1359055.0   53.640954   42.268213 -1116.91   31.420   46.01   64.59  4413.61\n",
       "1          7762.0  172.561364  116.865552     0.03  124.485  150.00  200.00  1020.49"
      ]
     },
     "execution_count": 12,
     "metadata": {},
     "output_type": "execute_result"
    }
   ],
   "source": [
    "plt.figure(figsize=(10,6))\n",
    "plt.scatter(\n",
    "    x=Data_card_complete.index, \n",
    "    y=Data_card_complete['dollar_amt'], \n",
    "    alpha=0.6, \n",
    "    s=20\n",
    ")\n",
    "\n",
    "# Mise en forme du graphique\n",
    "plt.title(\"Distribution des transactions à selon leur montant\", fontsize=14)\n",
    "plt.xlabel(\"Index des transactions\", fontsize=12)\n",
    "plt.ylabel(\"Montant de la transaction ($)\", fontsize=12)\n",
    "plt.grid(True, linestyle=\"--\", alpha=0.5)\n",
    "plt.show()\n",
    "\n",
    "# Comparaison des montants frauduleux vs non frauduleux\n",
    "Data_card_complete.groupby('fraude')['dollar_amt'].describe()"
   ]
  },
  {
   "cell_type": "markdown",
   "metadata": {},
   "source": [
    " ### $Commentaire$\n",
    "\n",
    "- La grande majorité des transactions se concentrent dans une bande dense autour de zéro, ce qui indique que la plupart des opérations ont des montants relativement faibles, probablement inférieurs à quelques centaines de dollars. Cette zone compacte traduit la normalité des comportements financiers courants.\n",
    "\n",
    "- Cependant, on observe la présence de plusieurs points isolés, s’élevant au-dessus ou en dessous du nuage principal. Ces points représentent des valeurs extrêmes ou atypiques, aussi bien pour des montants élevés positifs (au-delà de 2 000 à 4 000 dollars) que pour quelques valeurs négatives (avoisinant -1 000 dollars)."
   ]
  },
  {
   "cell_type": "code",
   "execution_count": 13,
   "metadata": {},
   "outputs": [
    {
     "name": "stdout",
     "output_type": "stream",
     "text": [
      "<class 'pandas.core.frame.DataFrame'>\n",
      "RangeIndex: 1366817 entries, 0 to 1366816\n",
      "Data columns (total 7 columns):\n",
      " #   Column                  Non-Null Count    Dtype  \n",
      "---  ------                  --------------    -----  \n",
      " 0   SEQ                     1366817 non-null  int64  \n",
      " 1   Trans_Calendar_Date     1366817 non-null  object \n",
      " 2   Local_Transaction_Time  1366817 non-null  object \n",
      " 3   CD_TYPE                 1366817 non-null  object \n",
      " 4   dollar_amt              1366817 non-null  float64\n",
      " 5   CASE_ID                 1362740 non-null  float64\n",
      " 6   fraude                  1366817 non-null  int64  \n",
      "dtypes: float64(2), int64(2), object(3)\n",
      "memory usage: 73.0+ MB\n"
     ]
    },
    {
     "data": {
      "text/plain": [
       "count    1.366817e+06\n",
       "mean     5.431629e+01\n",
       "std      4.397568e+01\n",
       "min     -1.116910e+03\n",
       "25%      3.150000e+01\n",
       "50%      4.618000e+01\n",
       "75%      6.500000e+01\n",
       "max      4.413610e+03\n",
       "Name: dollar_amt, dtype: float64"
      ]
     },
     "execution_count": 13,
     "metadata": {},
     "output_type": "execute_result"
    }
   ],
   "source": [
    "# Aperçu général des données\n",
    "Data_card_complete.info()\n",
    "\n",
    "# Aperçu statistique des variables numériques\n",
    "Data_card_complete['dollar_amt'].describe()"
   ]
  },
  {
   "cell_type": "markdown",
   "metadata": {},
   "source": [
    " ### $Commentaire$\n",
    "\n",
    "- **Valeurs manquantes**\n",
    "\n",
    "Le jeu de données présente une excellente complétude globale, avec un taux de valeurs manquantes quasi nul. Les rares valeurs manquantes observées concernent exclusivement la colonne `CASE_ID`, qui sert d’identifiant unique pour les cartes de crédit.\n",
    "Ces absences peuvent être dues à des anomalies lors de la collecte ou à des transactions isolées n’ayant pas pu être reliées à une carte spécifique. Bien que leur proportion soit négligeable, elles nécessitent une vérification, car la présence d’un identifiant manquant empêche d’associer correctement les transactions à un titulaire de carte. Selon l’ampleur du phénomène, ces enregistrements pourront être supprimés ou imputés de manière cohérente avant l’étape de modélisation.\n",
    "\n",
    "- **Montants négatifs**\n",
    "\n",
    "L’analyse descriptive du champ `dollar_amt` révèle un montant minimal de -1 116,91 dollars, indiquant la présence de valeurs négatives dans le jeu de données.\n",
    "Ces montants négatifs peuvent correspondre à des transactions de remboursement, d’ajustement de solde ou d’annulation d’achat, courantes dans le traitement des opérations financières.\n",
    "Toutefois, comme le contexte d’étude se limite à la détection de fraudes sur les paiements sortants, ces valeurs pourraient être considérées comme non pertinentes et donc exclues. Une exploration plus approfondie permettra de déterminer s’il s’agit de comportements légitimes ou d’erreurs de saisie."
   ]
  },
  {
   "cell_type": "code",
   "execution_count": 14,
   "metadata": {},
   "outputs": [
    {
     "name": "stdout",
     "output_type": "stream",
     "text": [
      "Nombre de transactions à montant négatif : 5795\n"
     ]
    },
    {
     "data": {
      "text/html": [
       "<div>\n",
       "<style scoped>\n",
       "    .dataframe tbody tr th:only-of-type {\n",
       "        vertical-align: middle;\n",
       "    }\n",
       "\n",
       "    .dataframe tbody tr th {\n",
       "        vertical-align: top;\n",
       "    }\n",
       "\n",
       "    .dataframe thead th {\n",
       "        text-align: right;\n",
       "    }\n",
       "</style>\n",
       "<table border=\"1\" class=\"dataframe\">\n",
       "  <thead>\n",
       "    <tr style=\"text-align: right;\">\n",
       "      <th></th>\n",
       "      <th>SEQ</th>\n",
       "      <th>Trans_Calendar_Date</th>\n",
       "      <th>Local_Transaction_Time</th>\n",
       "      <th>CD_TYPE</th>\n",
       "      <th>dollar_amt</th>\n",
       "      <th>CASE_ID</th>\n",
       "      <th>fraude</th>\n",
       "    </tr>\n",
       "  </thead>\n",
       "  <tbody>\n",
       "    <tr>\n",
       "      <th>702</th>\n",
       "      <td>36</td>\n",
       "      <td>10-Jul-18</td>\n",
       "      <td>10:29:44</td>\n",
       "      <td>GDC</td>\n",
       "      <td>-2.36</td>\n",
       "      <td>17.0</td>\n",
       "      <td>0</td>\n",
       "    </tr>\n",
       "    <tr>\n",
       "      <th>704</th>\n",
       "      <td>34</td>\n",
       "      <td>12-Jul-18</td>\n",
       "      <td>11:01:27</td>\n",
       "      <td>GDC</td>\n",
       "      <td>-2.20</td>\n",
       "      <td>17.0</td>\n",
       "      <td>0</td>\n",
       "    </tr>\n",
       "    <tr>\n",
       "      <th>707</th>\n",
       "      <td>31</td>\n",
       "      <td>14-Jul-18</td>\n",
       "      <td>11:24:10</td>\n",
       "      <td>GDC</td>\n",
       "      <td>-1.24</td>\n",
       "      <td>17.0</td>\n",
       "      <td>0</td>\n",
       "    </tr>\n",
       "    <tr>\n",
       "      <th>709</th>\n",
       "      <td>29</td>\n",
       "      <td>14-Jul-18</td>\n",
       "      <td>19:38:43</td>\n",
       "      <td>GDC</td>\n",
       "      <td>-2.18</td>\n",
       "      <td>17.0</td>\n",
       "      <td>0</td>\n",
       "    </tr>\n",
       "    <tr>\n",
       "      <th>712</th>\n",
       "      <td>26</td>\n",
       "      <td>17-Jul-18</td>\n",
       "      <td>12:36:07</td>\n",
       "      <td>GDC</td>\n",
       "      <td>-2.16</td>\n",
       "      <td>17.0</td>\n",
       "      <td>0</td>\n",
       "    </tr>\n",
       "  </tbody>\n",
       "</table>\n",
       "</div>"
      ],
      "text/plain": [
       "     SEQ Trans_Calendar_Date Local_Transaction_Time CD_TYPE  dollar_amt  CASE_ID  fraude\n",
       "702   36           10-Jul-18               10:29:44     GDC       -2.36     17.0       0\n",
       "704   34           12-Jul-18               11:01:27     GDC       -2.20     17.0       0\n",
       "707   31           14-Jul-18               11:24:10     GDC       -1.24     17.0       0\n",
       "709   29           14-Jul-18               19:38:43     GDC       -2.18     17.0       0\n",
       "712   26           17-Jul-18               12:36:07     GDC       -2.16     17.0       0"
      ]
     },
     "execution_count": 14,
     "metadata": {},
     "output_type": "execute_result"
    }
   ],
   "source": [
    "# Vérifier les valeurs négatives dans la colonne dollar_amt\n",
    "negatives = Data_card_complete[Data_card_complete['dollar_amt'] < 0]\n",
    "print(f\"Nombre de transactions à montant négatif : {len(negatives)}\")\n",
    "negatives.head()"
   ]
  },
  {
   "cell_type": "code",
   "execution_count": 15,
   "metadata": {},
   "outputs": [
    {
     "data": {
      "image/png": "[encoded data removed]",
      "text/plain": [
       "<Figure size 720x432 with 1 Axes>"
      ]
     },
     "metadata": {
      "needs_background": "light"
     },
     "output_type": "display_data"
    }
   ],
   "source": [
    "# Création du graphique\n",
    "plt.figure(figsize=(10,6))\n",
    "plt.scatter(\n",
    "    x=negatives.index, \n",
    "    y=negatives['dollar_amt'], \n",
    "    alpha=0.6, \n",
    "    s=20\n",
    ")\n",
    "\n",
    "# Mise en forme du graphique\n",
    "plt.title(\"Distribution des transactions à montant négatif\", fontsize=14)\n",
    "plt.xlabel(\"Index des transactions\", fontsize=12)\n",
    "plt.ylabel(\"Montant de la transaction ($)\", fontsize=12)\n",
    "plt.grid(True, linestyle=\"--\", alpha=0.5)\n",
    "plt.show()"
   ]
  },
  {
   "cell_type": "code",
   "execution_count": 16,
   "metadata": {},
   "outputs": [
    {
     "data": {
      "image/png": "[encoded data removed]",
      "text/plain": [
       "<Figure size 432x288 with 1 Axes>"
      ]
     },
     "metadata": {
      "needs_background": "light"
     },
     "output_type": "display_data"
    },
    {
     "name": "stdout",
     "output_type": "stream",
     "text": [
      "Taux de fraude dans les transactions à montant négatif : 0.00%\n"
     ]
    }
   ],
   "source": [
    "# Distribution des classes (fraude vs non fraude)\n",
    "negatives['fraude'].value_counts().plot(kind='bar')\n",
    "plt.title(\"Répartition des transactions : Frauduleuses vs Non Frauduleuses\")\n",
    "plt.xlabel(\"Classe\")\n",
    "plt.ylabel(\"Nombre de transactions\")\n",
    "plt.show()\n",
    "\n",
    "# Affichage du pourcentage de transactions frauduleuses\n",
    "fraud_ratio = negatives['fraude'].mean() * 100\n",
    "print(f\"Taux de fraude dans les transactions à montant négatif : {fraud_ratio:.2f}%\")"
   ]
  },
  {
   "cell_type": "markdown",
   "metadata": {},
   "source": [
    " ### $Commentaire$\n",
    "\n",
    "La majorité des valeurs négatives observées se situent très près de zéro, à l’exception de quelques montants isolés présentant un écart plus marqué.\n",
    "\n",
    "Étant donné que le présent projet porte sur la détection de fraudes, et que les transactions à montants négatifs correspondent généralement à des remboursements ou des annulations d’opérations, il est peu probable qu’elles soient pertinentes dans ce contexte d’analyse.\n",
    "\n",
    "Par ailleurs, aucune de ces transactions n’a été identifiée comme frauduleuse, ce qui renforce l’idée qu’elles peuvent être exclues sans incidence sur la qualité du modèle"
   ]
  },
  {
   "cell_type": "code",
   "execution_count": 17,
   "metadata": {},
   "outputs": [
    {
     "name": "stdout",
     "output_type": "stream",
     "text": [
      "\n",
      "Nombre de transactions sans ID : 4077\n",
      "Pourcentage de transactions sans ID : 0.298%\n"
     ]
    }
   ],
   "source": [
    "# Nombre et pourcentage de transactions sans identifiant de carte\n",
    "no_id = Data_card_complete[Data_card_complete['CASE_ID'].isnull()]\n",
    "nb_missing_caseid = len(no_id)\n",
    "pct_missing_caseid = (nb_missing_caseid / len(Data_card_complete)) * 100\n",
    "\n",
    "print(f\"\\nNombre de transactions sans ID : {nb_missing_caseid}\")\n",
    "print(f\"Pourcentage de transactions sans ID : {pct_missing_caseid:.3f}%\")"
   ]
  },
  {
   "cell_type": "code",
   "execution_count": 18,
   "metadata": {},
   "outputs": [
    {
     "data": {
      "image/png": "[encoded data removed]",
      "text/plain": [
       "<Figure size 432x288 with 1 Axes>"
      ]
     },
     "metadata": {
      "needs_background": "light"
     },
     "output_type": "display_data"
    },
    {
     "name": "stdout",
     "output_type": "stream",
     "text": [
      "Taux de fraude des transactions non-identifiées : 2.48%\n"
     ]
    }
   ],
   "source": [
    "# Distribution des classes (fraude vs non fraude)\n",
    "no_id['fraude'].value_counts().plot(kind='bar')\n",
    "plt.title(\"Répartition des transactions : Frauduleuses vs Non Frauduleuses\")\n",
    "plt.xlabel(\"Classe\")\n",
    "plt.ylabel(\"Nombre de transactions\")\n",
    "plt.show()\n",
    "\n",
    "# Affichage du pourcentage de transactions frauduleuses\n",
    "fraud_ratio = no_id['fraude'].mean() * 100\n",
    "print(f\"Taux de fraude des transactions non-identifiées : {fraud_ratio:.2f}%\")"
   ]
  },
  {
   "cell_type": "markdown",
   "metadata": {},
   "source": [
    "### $Commentaire$\n",
    "Les transactions non identifiées représentent environ 0,3 % de l’ensemble du jeu de données, soit 4 077 cas. Bien que leur proportion soit marginale, leur présence mérite une attention particulière, car elles traduisent une absence d’information clé (CASE_ID) susceptible de compliquer le suivi ou la traçabilité des opérations.\n",
    "\n",
    "Par ailleurs, 2,48 % de ces transactions anonymes sont signalées comme frauduleuses, un taux nettement supérieur à la moyenne globale de 0,57 %. Cette surreprésentation laisse penser que l’anonymat pourrait constituer un facteur de risque accru de fraude, ou du moins un indicateur d’irrégularité dans la collecte ou la saisie des données.\n",
    "\n",
    "Il serait donc pertinent d’approfondir l’analyse de ces cas afin de déterminer s’ils résultent d’un défaut technique de saisie, d’un masquage volontaire, ou d’une tentative de dissimulation d’activité frauduleuse."
   ]
  },
  {
   "cell_type": "markdown",
   "metadata": {},
   "source": [
    "### Analyser la distribution des valeurs des transactions et l’heure de chaque transaction pour les situations normales et frauduleuses"
   ]
  },
  {
   "cell_type": "code",
   "execution_count": 19,
   "metadata": {},
   "outputs": [],
   "source": [
    "# Copie du dataframe pour éviter de modifier l'original\n",
    "df = Data_card_complete.copy()"
   ]
  },
  {
   "cell_type": "code",
   "execution_count": 20,
   "metadata": {},
   "outputs": [
    {
     "name": "stdout",
     "output_type": "stream",
     "text": [
      "   dollar_amt  hour  fraude\n",
      "0       44.20    15       0\n",
      "1       57.78    11       0\n",
      "2       37.30    13       0\n",
      "3       88.32    13       0\n",
      "4       46.74    18       0\n"
     ]
    }
   ],
   "source": [
    "# Conversion de la colonne d'heure en format datetime\n",
    "df['Local_Transaction_Time'] = pd.to_datetime(df['Local_Transaction_Time'], format='%H:%M:%S', errors='coerce')\n",
    "# Extraire l'heure sous forme numérique (0 à 23)\n",
    "df['hour'] = df['Local_Transaction_Time'].dt.hour\n",
    "\n",
    "# Vérification rapide\n",
    "print(df[['dollar_amt', 'hour', 'fraude']].head())"
   ]
  },
  {
   "cell_type": "markdown",
   "metadata": {},
   "source": [
    "# Distribution horaire des transactions"
   ]
  },
  {
   "cell_type": "code",
   "execution_count": 21,
   "metadata": {},
   "outputs": [
    {
     "data": {
      "image/png": "[encoded data removed]",
      "text/plain": [
       "<Figure size 720x360 with 1 Axes>"
      ]
     },
     "metadata": {
      "needs_background": "light"
     },
     "output_type": "display_data"
    }
   ],
   "source": [
    "plt.figure(figsize=(10,5))\n",
    "sns.histplot(data=df, x='hour', hue='fraude', bins=24, multiple='stack', palette='mako')\n",
    "plt.title(\"Répartition des transactions selon l’heure (fraude vs normal)\", fontsize=13)\n",
    "plt.xlabel(\"Heure de la journée (0–23)\")\n",
    "plt.ylabel(\"Nombre de transactions\")\n",
    "plt.legend(title='Type', labels=['Normal', 'Fraude'])\n",
    "plt.show()"
   ]
  },
  {
   "cell_type": "markdown",
   "metadata": {},
   "source": [
    "### $Commentaire$\n",
    "les transactions frauduleuses sont quasiment invisibles sur le graphique.\n",
    "Cela est dû à un déséquilibre massif des classes : à peine 0.57 % de fraudes sur l’ensemble du dataset. Du coup, nous aloons afficher chaque distribution separement."
   ]
  },
  {
   "cell_type": "markdown",
   "metadata": {},
   "source": [
    "# Distribution horaire des transactions FRAUDULEUSES "
   ]
  },
  {
   "cell_type": "code",
   "execution_count": 22,
   "metadata": {},
   "outputs": [
    {
     "data": {
      "image/png": "[encoded data removed]",
      "text/plain": [
       "<Figure size 720x360 with 1 Axes>"
      ]
     },
     "metadata": {
      "needs_background": "light"
     },
     "output_type": "display_data"
    },
    {
     "name": "stdout",
     "output_type": "stream",
     "text": [
      "\n",
      "📈 Nombre de fraudes par heure de la journée :\n",
      "0      72\n",
      "1      57\n",
      "2      31\n",
      "3      43\n",
      "4      59\n",
      "5     122\n",
      "6     224\n",
      "7     302\n",
      "8     338\n",
      "9     468\n",
      "10    538\n",
      "11    561\n",
      "12    568\n",
      "13    581\n",
      "14    566\n",
      "15    592\n",
      "16    493\n",
      "17    427\n",
      "18    393\n",
      "19    394\n",
      "20    347\n",
      "21    287\n",
      "22    183\n",
      "23    116\n",
      "Name: hour, dtype: int64\n"
     ]
    }
   ],
   "source": [
    "# Distribution horaire des transactions FRAUDULEUSES uniquement\n",
    "\n",
    "fraudes = df[df['fraude'] == 1].copy()\n",
    "\n",
    "plt.figure(figsize=(10,5))\n",
    "sns.histplot(data=fraudes, x='hour', bins=24, color='crimson', kde=False)\n",
    "plt.title(\"Distribution horaire des transactions FRAUDULEUSES\", fontsize=13)\n",
    "plt.xlabel(\"Heure de la journée (0–23)\")\n",
    "plt.ylabel(\"Nombre de transactions frauduleuses\")\n",
    "plt.show()\n",
    "\n",
    "# Statistiques par heure\n",
    "fraude_hourly = fraudes['hour'].value_counts().sort_index()\n",
    "print(\"\\n📈 Nombre de fraudes par heure de la journée :\")\n",
    "print(fraude_hourly)\n"
   ]
  },
  {
   "cell_type": "markdown",
   "metadata": {},
   "source": [
    "### $Commentaire$\n",
    "#### Interprétation comportementale\n",
    "\n",
    "1. Pas d’anomalie temporelle flagrante\n",
    "Les fraudes ne se concentrent pas spécifiquement la nuit ou à des heures inhabituelles.\n",
    "Cela suggère que les fraudeurs cherchent à imiter le comportement normal des utilisateurs pour passer inaperçus.\n",
    "\n",
    "2. Corrélation avec le volume d’activité\n",
    "Le nombre de fraudes augmente naturellement aux heures où le volume total de transactions est élevé.\n",
    "Ce qui est logique : plus de transactions donc plus d’opportunités pour les fraudes.\n",
    "\n",
    "3. L’heure n’est pas discriminante seule\n",
    "La variable hour est donc informative, mais pas discriminante à elle seule."
   ]
  },
  {
   "cell_type": "markdown",
   "metadata": {},
   "source": [
    "# Distribution des montants frauduleux"
   ]
  },
  {
   "cell_type": "code",
   "execution_count": 23,
   "metadata": {},
   "outputs": [
    {
     "data": {
      "image/png": "[encoded data removed]",
      "text/plain": [
       "<Figure size 720x360 with 1 Axes>"
      ]
     },
     "metadata": {
      "needs_background": "light"
     },
     "output_type": "display_data"
    },
    {
     "name": "stdout",
     "output_type": "stream",
     "text": [
      "Statistiques sur les montants frauduleux :\n",
      "count    7762.000000\n",
      "mean      172.561364\n",
      "std       116.865552\n",
      "min         0.030000\n",
      "25%       124.485000\n",
      "50%       150.000000\n",
      "75%       200.000000\n",
      "max      1020.490000\n",
      "Name: dollar_amt, dtype: float64\n"
     ]
    }
   ],
   "source": [
    "# Filtrer uniquement les transactions frauduleuses\n",
    "fraudes = df[df['fraude'] == 1]\n",
    "\n",
    "plt.figure(figsize=(10,5))\n",
    "sns.histplot(fraudes['dollar_amt'], bins=50, kde=True, color='crimson')\n",
    "plt.title(\"Distribution des montants des transactions FRAUDULEUSES\", fontsize=13)\n",
    "plt.xlabel(\"Montant de la transaction ($)\")\n",
    "plt.ylabel(\"Fréquence\")\n",
    "plt.show()\n",
    "\n",
    "# Statistiques descriptives\n",
    "print(\"Statistiques sur les montants frauduleux :\")\n",
    "print(fraudes['dollar_amt'].describe())"
   ]
  },
  {
   "cell_type": "code",
   "execution_count": 24,
   "metadata": {},
   "outputs": [
    {
     "name": "stdout",
     "output_type": "stream",
     "text": [
      "\n",
      "📈 Frequence Montant :\n",
      "0.03       3\n",
      "0.04       4\n",
      "0.05       3\n",
      "0.06       2\n",
      "0.10       1\n",
      "          ..\n",
      "954.28     1\n",
      "954.35     1\n",
      "996.70     1\n",
      "999.00     1\n",
      "1020.49    1\n",
      "Name: dollar_amt, Length: 3434, dtype: int64\n"
     ]
    }
   ],
   "source": [
    "fraude_Montant = fraudes['dollar_amt'].value_counts().sort_index()\n",
    "print(\"\\n📈 Frequence Montant :\")\n",
    "print(fraude_Montant)"
   ]
  },
  {
   "cell_type": "markdown",
   "metadata": {},
   "source": [
    "# Top_5 montants les plus fréquents parmi les fraudes"
   ]
  },
  {
   "cell_type": "code",
   "execution_count": 25,
   "metadata": {},
   "outputs": [
    {
     "name": "stdout",
     "output_type": "stream",
     "text": [
      "Les 5 montants les plus fréquents dans les transactions frauduleuses :\n",
      "150.0    1903\n",
      "200.0     272\n",
      "300.0     205\n",
      "149.0     175\n",
      "250.0     142\n",
      "Name: dollar_amt, dtype: int64\n"
     ]
    },
    {
     "data": {
      "image/png": "[encoded data removed]",
      "text/plain": [
       "<Figure size 576x360 with 1 Axes>"
      ]
     },
     "metadata": {
      "needs_background": "light"
     },
     "output_type": "display_data"
    }
   ],
   "source": [
    "# 5 montants les plus fréquents dans les transactions frauduleuses\n",
    "top_5_montants = fraudes['dollar_amt'].value_counts().head(5)\n",
    "\n",
    "print(\"Les 5 montants les plus fréquents dans les transactions frauduleuses :\")\n",
    "print(top_5_montants)\n",
    "\n",
    "# Visualisation\n",
    "plt.figure(figsize=(8,5))\n",
    "sns.barplot(x=top_5_montants.index, y=top_5_montants.values, palette=\"Reds_r\")\n",
    "plt.title(\"Top 5 des montants les plus fréquents dans les fraudes\", fontsize=13)\n",
    "plt.xlabel(\"Montant de la transaction ($)\")\n",
    "plt.ylabel(\"Nombre de fraudes\")\n",
    "plt.show()"
   ]
  },
  {
   "cell_type": "markdown",
   "metadata": {},
   "source": [
    "### $Commentaire$\n",
    "L’examen des montants les plus fréquents dans les transactions frauduleuses révèle une forte concentration autour de montants ronds et moyens, principalement à 150 $, 200 $ et 300 $.\n",
    "\n",
    "Le montant de 150 $, à lui seul, représente près d’un quart de l’ensemble des fraudes recensées (1 903 cas sur 7 762).\n",
    "\n",
    "Cette récurrence indique une stratégie comportementale délibérée des fraudeurs :\n",
    "ils privilégient des montants suffisamment faibles pour ne pas éveiller les alertes automatiques des systèmes bancaires, mais assez élevés pour rendre la fraude rentable à grande échelle.\n",
    "\n",
    "En revanche, les montants extrêmes (très faibles ou supérieurs à 1 000 $) sont rares, ce qui corrobore l’idée que les fraudeurs cherchent à se fondre dans le comportement normal des utilisateurs légitimes."
   ]
  },
  {
   "cell_type": "markdown",
   "metadata": {},
   "source": [
    "# Comparer la distribution des montants entre transactions normales et frauduleuses"
   ]
  },
  {
   "cell_type": "code",
   "execution_count": 26,
   "metadata": {},
   "outputs": [
    {
     "data": {
      "image/png": "[encoded data removed]",
      "text/plain": [
       "<Figure size 720x432 with 1 Axes>"
      ]
     },
     "metadata": {
      "needs_background": "light"
     },
     "output_type": "display_data"
    },
    {
     "name": "stdout",
     "output_type": "stream",
     "text": [
      "============================================================\n",
      "STATISTIQUES COMPARATIVES DES MONTANTS DE TRANSACTIONS\n",
      "============================================================\n",
      "\n",
      "Statistiques descriptives :\n",
      "            count        mean         std      min      25%     50%     75%      max\n",
      "fraude                                                                              \n",
      "0       1359055.0   53.640954   42.268213 -1116.91   31.420   46.01   64.59  4413.61\n",
      "1          7762.0  172.561364  116.865552     0.03  124.485  150.00  200.00  1020.49\n",
      "\n",
      "========================================\n",
      "STATISTIQUES COMPLÉMENTAIRES\n",
      "========================================\n",
      "\n",
      "--- Transactions Normales ---\n",
      "Nombre: 1,359,055\n",
      "Médiane: $46.01\n",
      "Moyenne: $53.64\n",
      "Écart-type: $42.27\n",
      "Min: $-1116.91\n",
      "Max: $4413.61\n",
      "Q1 (25%): $31.42\n",
      "Q3 (75%): $64.59\n",
      "\n",
      "--- Transactions Frauduleuses ---\n",
      "Nombre: 7,762\n",
      "Médiane: $150.00\n",
      "Moyenne: $172.56\n",
      "Écart-type: $116.87\n",
      "Min: $0.03\n",
      "Max: $1020.49\n",
      "Q1 (25%): $124.48\n",
      "Q3 (75%): $200.00\n",
      "\n",
      "========================================\n",
      "RÉPARTITION DES TRANSACTIONS\n",
      "========================================\n",
      "Total transactions: 1,366,817\n",
      "Transactions normales: 1,359,055 (99.43%)\n",
      "Transactions frauduleuses: 7,762 (0.57%)\n"
     ]
    }
   ],
   "source": [
    "import matplotlib.pyplot as plt\n",
    "import seaborn as sns\n",
    "import numpy as np\n",
    "\n",
    "plt.figure(figsize=(10, 6))\n",
    "\n",
    "# Création du boxplot avec des couleurs plus distinctes\n",
    "boxplot = sns.boxplot(x='fraude', y='dollar_amt', data=Data_card_complete, \n",
    "                     palette=['#2E8B57', '#DC143C'],  # Vert pour normale, rouge pour fraude\n",
    "                     width=0.5)\n",
    "\n",
    "plt.title(\"Comparaison des montants : Transactions normales vs frauduleuses\", \n",
    "          fontsize=14, fontweight='bold', pad=20)\n",
    "plt.xlabel(\"Type de transaction (0 = normale, 1 = frauduleuse)\", fontsize=12, labelpad=10)\n",
    "plt.ylabel(\"Montant de la transaction ($)\", fontsize=12, labelpad=10)\n",
    "plt.yscale('log')  # Échelle logarithmique\n",
    "\n",
    "# Ajouter des étiquettes plus explicites sur l'axe x\n",
    "plt.xticks([0, 1], ['Normales\\n(0)', 'Frauduleuses\\n(1)'])\n",
    "\n",
    "# Ajouter une grille pour meilleure lisibilité\n",
    "plt.grid(axis='y', alpha=0.3, linestyle='--')\n",
    "\n",
    "# Améliorer l'apparence générale\n",
    "sns.despine(left=True)\n",
    "plt.tight_layout()\n",
    "\n",
    "# Afficher le graphique\n",
    "plt.show()\n",
    "\n",
    "# Statistiques comparatives détaillées\n",
    "print(\"=\" * 60)\n",
    "print(\"STATISTIQUES COMPARATIVES DES MONTANTS DE TRANSACTIONS\")\n",
    "print(\"=\" * 60)\n",
    "\n",
    "stats = Data_card_complete.groupby('fraude')['dollar_amt'].describe()\n",
    "print(\"\\nStatistiques descriptives :\")\n",
    "print(stats)\n",
    "\n",
    "# Statistiques supplémentaires\n",
    "print(\"\\n\" + \"=\" * 40)\n",
    "print(\"STATISTIQUES COMPLÉMENTAIRES\")\n",
    "print(\"=\" * 40)\n",
    "\n",
    "for fraude_type in [0, 1]:\n",
    "    subset = Data_card_complete[Data_card_complete['fraude'] == fraude_type]['dollar_amt']\n",
    "    type_name = \"Normales\" if fraude_type == 0 else \"Frauduleuses\"\n",
    "    \n",
    "    print(f\"\\n--- Transactions {type_name} ---\")\n",
    "    print(f\"Nombre: {len(subset):,}\")\n",
    "    print(f\"Médiane: ${subset.median():.2f}\")\n",
    "    print(f\"Moyenne: ${subset.mean():.2f}\")\n",
    "    print(f\"Écart-type: ${subset.std():.2f}\")\n",
    "    print(f\"Min: ${subset.min():.2f}\")\n",
    "    print(f\"Max: ${subset.max():.2f}\")\n",
    "    print(f\"Q1 (25%): ${subset.quantile(0.25):.2f}\")\n",
    "    print(f\"Q3 (75%): ${subset.quantile(0.75):.2f}\")\n",
    "\n",
    "# Ratio frauduleuses/normales\n",
    "fraud_count = len(Data_card_complete[Data_card_complete['fraude'] == 1])\n",
    "normal_count = len(Data_card_complete[Data_card_complete['fraude'] == 0])\n",
    "total_count = len(Data_card_complete)\n",
    "\n",
    "print(\"\\n\" + \"=\" * 40)\n",
    "print(\"RÉPARTITION DES TRANSACTIONS\")\n",
    "print(\"=\" * 40)\n",
    "print(f\"Total transactions: {total_count:,}\")\n",
    "print(f\"Transactions normales: {normal_count:,} ({normal_count/total_count*100:.2f}%)\")\n",
    "print(f\"Transactions frauduleuses: {fraud_count:,} ({fraud_count/total_count*100:.2f}%)\")"
   ]
  },
  {
   "cell_type": "markdown",
   "metadata": {},
   "source": [
    "### $Commentaire$\n",
    "Les transactions frauduleuses se distinguent nettement par des montants plus élevés et une plus grande variabilité. \n",
    "\n",
    "La médiane des fraudes (~$150)  est environ 3 fois supérieure à celle des transactions normales (~$46). La distribution des fraudes est plus étendue, surtout au-delà de $125. Sur l’échelle logarithmique, l’écart entre les deux groupes est encore plus visible.\n",
    "\n",
    "Insight clé : le montant est un excellent indicateur préliminaire de fraude — toute transaction >$100 doit être surveillée, avec des seuils d’alerte à $125 (risque) et $200 (fort risque)."
   ]
  },
  {
   "cell_type": "markdown",
   "metadata": {},
   "source": [
    "### Analyse de la distribution des montants et calcule des pourcentages de transactions au-dessus de $200"
   ]
  },
  {
   "cell_type": "code",
   "execution_count": 27,
   "metadata": {},
   "outputs": [
    {
     "data": {
      "image/png": "[encoded data removed]",
      "text/plain": [
       "<Figure size 1080x360 with 2 Axes>"
      ]
     },
     "metadata": {
      "needs_background": "light"
     },
     "output_type": "display_data"
    },
    {
     "name": "stdout",
     "output_type": "stream",
     "text": [
      "ANALYSE DES TRANSACTIONS > $200\n",
      "==================================================\n",
      "Transactions normales > $200: 17,252 / 1,359,055 = 1.2694%\n",
      "Transactions frauduleuses > $200: 1,740 / 7,762 = 22.42%\n",
      "\n",
      "Ratio de risque: 17.7x plus de chances qu'une transaction > $200 soit frauduleuse\n"
     ]
    }
   ],
   "source": [
    "# Analyse de la distribution des montants par type de transaction\n",
    "plt.figure(figsize=(15, 5))\n",
    "\n",
    "# Graphique 1: Distribution des transactions normales\n",
    "plt.subplot(1, 2, 1)\n",
    "data_normales = Data_card_complete[Data_card_complete['fraude'] == 0]['dollar_amt']\n",
    "plt.hist(data_normales, bins=50, color='skyblue', edgecolor='black', alpha=0.7)\n",
    "plt.axvline(x=200, color='red', linestyle='--', linewidth=2, label='Seuil $200')\n",
    "plt.title('Distribution des montants - Transactions normales')\n",
    "plt.xlabel('Montant ($)')\n",
    "plt.ylabel('Fréquence')\n",
    "plt.legend()\n",
    "plt.grid(alpha=0.3)\n",
    "\n",
    "# Graphique 2: Distribution des transactions frauduleuses\n",
    "plt.subplot(1, 2, 2)\n",
    "data_fraudes = Data_card_complete[Data_card_complete['fraude'] == 1]['dollar_amt']\n",
    "plt.hist(data_fraudes, bins=50, color='crimson', edgecolor='black', alpha=0.7)\n",
    "plt.axvline(x=200, color='red', linestyle='--', linewidth=2, label='Seuil $200')\n",
    "plt.title('Distribution des montants - Transactions frauduleuses')\n",
    "plt.xlabel('Montant ($)')\n",
    "plt.ylabel('Fréquence')\n",
    "plt.legend()\n",
    "plt.grid(alpha=0.3)\n",
    "\n",
    "plt.tight_layout()\n",
    "plt.show()\n",
    "\n",
    "# Calcul des pourcentages de transactions > $200\n",
    "print(\"ANALYSE DES TRANSACTIONS > $200\")\n",
    "print(\"=\" * 50)\n",
    "\n",
    "# Transactions normales\n",
    "normales_total = len(data_normales)\n",
    "normales_sup200 = len(data_normales[data_normales > 200])\n",
    "pourcentage_normales_sup200 = (normales_sup200 / normales_total) * 100\n",
    "\n",
    "# Transactions frauduleuses\n",
    "fraudes_total = len(data_fraudes)\n",
    "fraudes_sup200 = len(data_fraudes[data_fraudes > 200])\n",
    "pourcentage_fraudes_sup200 = (fraudes_sup200 / fraudes_total) * 100\n",
    "\n",
    "print(f\"Transactions normales > $200: {normales_sup200:,} / {normales_total:,} = {pourcentage_normales_sup200:.4f}%\")\n",
    "print(f\"Transactions frauduleuses > $200: {fraudes_sup200:,} / {fraudes_total:,} = {pourcentage_fraudes_sup200:.2f}%\")\n",
    "\n",
    "# Ratio de risque\n",
    "ratio_risque = pourcentage_fraudes_sup200 / pourcentage_normales_sup200 if pourcentage_normales_sup200 > 0 else float('inf')\n",
    "print(f\"\\nRatio de risque: {ratio_risque:.1f}x plus de chances qu'une transaction > $200 soit frauduleuse\")\n",
    "\n"
   ]
  },
  {
   "cell_type": "markdown",
   "metadata": {},
   "source": [
    "# Analyse par segments de montants"
   ]
  },
  {
   "cell_type": "code",
   "execution_count": 28,
   "metadata": {},
   "outputs": [
    {
     "name": "stdout",
     "output_type": "stream",
     "text": [
      "\n",
      "==================================================\n",
      "RÉPARTITION PAR SEGMENTS DE MONTANTS\n",
      "==================================================\n",
      "\n",
      "Faible montant ($0-$100):\n",
      "  Normales: 1,267,674 (93.28%)\n",
      "  Frauduleuses: 1,642 (21.15%)\n",
      "  Taux de fraude dans le segment: 0.13%\n",
      "\n",
      "Montant moyen ($100-$200):\n",
      "  Normales: 70,570 (5.19%)\n",
      "  Frauduleuses: 4,518 (58.21%)\n",
      "  Taux de fraude dans le segment: 6.02%\n",
      "\n",
      "Montant élevé ($200-$500):\n",
      "  Normales: 17,065 (1.26%)\n",
      "  Frauduleuses: 1,869 (24.08%)\n",
      "  Taux de fraude dans le segment: 9.87%\n",
      "\n",
      "Montant très élevé ($500-$1000):\n",
      "  Normales: 895 (0.07%)\n",
      "  Frauduleuses: 189 (2.43%)\n",
      "  Taux de fraude dans le segment: 17.44%\n",
      "\n",
      "Montant exceptionnel ($1000-$5000):\n",
      "  Normales: 20 (0.00%)\n",
      "  Frauduleuses: 1 (0.01%)\n",
      "  Taux de fraude dans le segment: 4.76%\n"
     ]
    }
   ],
   "source": [
    "print(\"\\n\" + \"=\" * 50)\n",
    "print(\"RÉPARTITION PAR SEGMENTS DE MONTANTS\")\n",
    "print(\"=\" * 50)\n",
    "\n",
    "def analyser_segment(montant_min, montant_max, nom_segment):\n",
    "    normales_segment = len(data_normales[(data_normales >= montant_min) & (data_normales <= montant_max)])\n",
    "    fraudes_segment = len(data_fraudes[(data_fraudes >= montant_min) & (data_fraudes <= montant_max)])\n",
    "    \n",
    "    pourcentage_normales = (normales_segment / normales_total) * 100\n",
    "    pourcentage_fraudes = (fraudes_segment / fraudes_total) * 100\n",
    "    \n",
    "    print(f\"\\n{nom_segment} (${montant_min}-${montant_max}):\")\n",
    "    print(f\"  Normales: {normales_segment:,} ({pourcentage_normales:.2f}%)\")\n",
    "    print(f\"  Frauduleuses: {fraudes_segment:,} ({pourcentage_fraudes:.2f}%)\")\n",
    "    \n",
    "    if normales_segment > 0:\n",
    "        taux_fraude = (fraudes_segment / (normales_segment + fraudes_segment)) * 100\n",
    "        print(f\"  Taux de fraude dans le segment: {taux_fraude:.2f}%\")\n",
    "\n",
    "# Analyse des différents segments\n",
    "analyser_segment(0, 100, \"Faible montant\")\n",
    "analyser_segment(100, 200, \"Montant moyen\")\n",
    "analyser_segment(200, 500, \"Montant élevé\")\n",
    "analyser_segment(500, 1000, \"Montant très élevé\")\n",
    "analyser_segment(1000, 5000, \"Montant exceptionnel\")"
   ]
  },
  {
   "cell_type": "markdown",
   "metadata": {},
   "source": [
    "### $Commentaire$\n",
    "Les résultats confirment pleinement les hypothèses initiales : le montant est un indicateur majeur de fraude.\n",
    "Les transactions \\> $200 \\;présentent \\;un \\;risque \\;17,7x \\;plus \\;élevé, \\;et \\;au-delà \\;de \\;$500, le taux de fraude atteint 17,4% — un signal d’alerte fort.\n",
    "\n",
    "Gradient de risque marqué :\n",
    "\n",
    "$0–$100 → risque faible (référence)\n",
    "\n",
    "$100–$200 → 46x plus risqué (zone critique, 58% des fraudes)\n",
    "\n",
    "$200–$500 → 76x plus risqué\n",
    "\n",
    "$500–$1000 → 134x plus risqué (pic de fraude)\n",
    "\n",
    "### Features :\n",
    "\n",
    "Surveillance prioritaire sur la tranche $100–$200 (fort volume et risque élevé)\n",
    "\n",
    "Validation renforcée pour toute transaction > $200\n",
    "\n",
    "Exploiter ce gradient de risque dans les modèles de détection (feature clé à pondérer fortement)."
   ]
  },
  {
   "cell_type": "markdown",
   "metadata": {},
   "source": [
    "# Analyse de la Séquence des transactions"
   ]
  },
  {
   "cell_type": "markdown",
   "metadata": {},
   "source": [
    "#### Note\n",
    "La variable SEQ (séquence des transactions) représente l'ordre chronologique inverse des opérations par carte, où :\n",
    "\n",
    "SEQ = 41 : Transaction la plus ancienne\n",
    "\n",
    "SEQ = 1 : Transaction la plus récente\n",
    "\n",
    "Importance stratégique pour la détection de fraude\n",
    "1. Contexte comportemental :\n",
    "- Chaque carte possède 41 transactions séquentielles\n",
    "- La position dans la séquence révèle des patterns temporels\n",
    "- Permet d'identifier les changements soudains de comportement\n",
    "\n",
    "2. Valeur prédictive potentielle :\n",
    "\n",
    "- Les transactions frauduleuses suivent-elles une position spécifique ?\n",
    "- Existe-t-il des patterns de fréquence suspects ?\n",
    "- La fraude survient-elle après des périodes d'inactivité ?\n",
    "\n",
    "Résultats attendus\n",
    "Identifier si la position séquentielle des transactions constitue un indicateur fiable de comportement frauduleux."
   ]
  },
  {
   "cell_type": "markdown",
   "metadata": {},
   "source": [
    "### Analyse de la distribution des fraudes par position SEQ"
   ]
  },
  {
   "cell_type": "code",
   "execution_count": 29,
   "metadata": {},
   "outputs": [
    {
     "name": "stdout",
     "output_type": "stream",
     "text": [
      "📊 DISTRIBUTION DES FRAUDES PAR POSITION SEQ :\n",
      "    SEQ  total_transactions  nb_fraudes  taux_fraude  pourcentage_fraude\n",
      "0     1               33337        7753       0.2326             23.2564\n",
      "1     2               33337           9       0.0003              0.0270\n",
      "2     3               33337           0       0.0000              0.0000\n",
      "3     4               33337           0       0.0000              0.0000\n",
      "4     5               33337           0       0.0000              0.0000\n",
      "5     6               33337           0       0.0000              0.0000\n",
      "6     7               33337           0       0.0000              0.0000\n",
      "7     8               33337           0       0.0000              0.0000\n",
      "8     9               33337           0       0.0000              0.0000\n",
      "9    10               33337           0       0.0000              0.0000\n",
      "10   11               33337           0       0.0000              0.0000\n",
      "11   12               33337           0       0.0000              0.0000\n",
      "12   13               33337           0       0.0000              0.0000\n",
      "13   14               33337           0       0.0000              0.0000\n",
      "14   15               33337           0       0.0000              0.0000\n",
      "15   16               33337           0       0.0000              0.0000\n",
      "16   17               33337           0       0.0000              0.0000\n",
      "17   18               33337           0       0.0000              0.0000\n",
      "18   19               33337           0       0.0000              0.0000\n",
      "19   20               33337           0       0.0000              0.0000\n",
      "20   21               33337           0       0.0000              0.0000\n",
      "21   22               33337           0       0.0000              0.0000\n",
      "22   23               33337           0       0.0000              0.0000\n",
      "23   24               33337           0       0.0000              0.0000\n",
      "24   25               33337           0       0.0000              0.0000\n",
      "25   26               33337           0       0.0000              0.0000\n",
      "26   27               33337           0       0.0000              0.0000\n",
      "27   28               33337           0       0.0000              0.0000\n",
      "28   29               33337           0       0.0000              0.0000\n",
      "29   30               33337           0       0.0000              0.0000\n",
      "30   31               33337           0       0.0000              0.0000\n",
      "31   32               33337           0       0.0000              0.0000\n",
      "32   33               33337           0       0.0000              0.0000\n",
      "33   34               33337           0       0.0000              0.0000\n",
      "34   35               33337           0       0.0000              0.0000\n",
      "35   36               33337           0       0.0000              0.0000\n",
      "36   37               33337           0       0.0000              0.0000\n",
      "37   38               33337           0       0.0000              0.0000\n",
      "38   39               33337           0       0.0000              0.0000\n",
      "39   40               33337           0       0.0000              0.0000\n",
      "40   41               33337           0       0.0000              0.0000\n"
     ]
    }
   ],
   "source": [
    "# Distribution globale des fraudes par position SEQ\n",
    "fraude_par_seq = df.groupby('SEQ')['fraude'].agg(['count', 'sum', 'mean']).reset_index()\n",
    "fraude_par_seq.columns = ['SEQ', 'total_transactions', 'nb_fraudes', 'taux_fraude']\n",
    "fraude_par_seq['pourcentage_fraude'] = fraude_par_seq['taux_fraude'] * 100\n",
    "\n",
    "print(\"📊 DISTRIBUTION DES FRAUDES PAR POSITION SEQ :\")\n",
    "print(fraude_par_seq.round(4))"
   ]
  },
  {
   "cell_type": "markdown",
   "metadata": {},
   "source": [
    "# Commentaire\n",
    "Les fraudes sont EXTREÊMENT concentrées :\n",
    "\n",
    "SEQ = 1 : 23.26% de fraude (7,753 fraudes sur 33,337 transactions)\n",
    "\n",
    "SEQ = 2 : 0.03% de fraude (9 fraudes seulement)\n",
    "\n",
    "SEQ 3-41 : 0% de fraude (Aucune fraude)"
   ]
  },
  {
   "cell_type": "code",
   "execution_count": 30,
   "metadata": {},
   "outputs": [
    {
     "name": "stdout",
     "output_type": "stream",
     "text": [
      "ÉTAPE 1 - Identification des fraudes SEQ=2\n",
      "Nombre de fraudes à SEQ=2 : 9\n",
      "\n",
      "Détails des cas :\n",
      "             CASE_ID  SEQ  fraude CD_TYPE  dollar_amt\n",
      "1051443  176784271.0    2       1     WPC        6.49\n",
      "1065137  176768654.0    2       1     WPC      149.80\n",
      "1097199  176775945.0    2       1     WPC      150.00\n",
      "1165013  176785044.0    2       1     WPC       12.69\n",
      "1194533  176765454.0    2       1     WPC      300.00\n",
      "1207202  176768593.0    2       1     WPC      150.00\n",
      "1280715  176784292.0    2       1     WPC       47.00\n",
      "1283175  176771112.0    2       1     WPC       50.80\n",
      "1318640  176784980.0    2       1     WPC       84.76\n"
     ]
    }
   ],
   "source": [
    "# Étape 1 - Récupérer les transactions suspectes\n",
    "fraudes_seq2 = df[(df['SEQ'] == 2) & (df['fraude'] == 1)]\n",
    "print(\"ÉTAPE 1 - Identification des fraudes SEQ=2\")\n",
    "print(f\"Nombre de fraudes à SEQ=2 : {len(fraudes_seq2)}\")\n",
    "print(\"\\nDétails des cas :\")\n",
    "print(fraudes_seq2[['CASE_ID', 'SEQ', 'fraude', 'CD_TYPE', 'dollar_amt']])"
   ]
  },
  {
   "cell_type": "code",
   "execution_count": 31,
   "metadata": {},
   "outputs": [
    {
     "name": "stdout",
     "output_type": "stream",
     "text": [
      "ÉTAPE 2 - Vérification de l'ordre chronologique\n",
      "Carte 176784271.0 : Dernière SEQ = 2 (fraude à SEQ=2)\n",
      "Carte 176768654.0 : Dernière SEQ = 1 (fraude à SEQ=2)\n",
      "INCOHÉRENCE! La fraude n'est pas à la dernière position!\n",
      "Carte 176775945.0 : Dernière SEQ = 2 (fraude à SEQ=2)\n",
      "Carte 176785044.0 : Dernière SEQ = 2 (fraude à SEQ=2)\n",
      "Carte 176765454.0 : Dernière SEQ = 1 (fraude à SEQ=2)\n",
      "INCOHÉRENCE! La fraude n'est pas à la dernière position!\n",
      "Carte 176768593.0 : Dernière SEQ = 2 (fraude à SEQ=2)\n",
      "Carte 176784292.0 : Dernière SEQ = 2 (fraude à SEQ=2)\n",
      "Carte 176771112.0 : Dernière SEQ = 2 (fraude à SEQ=2)\n",
      "Carte 176784980.0 : Dernière SEQ = 2 (fraude à SEQ=2)\n"
     ]
    }
   ],
   "source": [
    "# Étape 2 - Vérifier si SEQ=2 est bien la dernière transaction\n",
    "print(\"ÉTAPE 2 - Vérification de l'ordre chronologique\")\n",
    "\n",
    "# Convertir les dates pour analyse\n",
    "df['date_dt'] = pd.to_datetime(df['Trans_Calendar_Date'])\n",
    "\n",
    "# Analyser l'ordre pour les 9 cartes suspectes\n",
    "for case_id in fraudes_seq2['CASE_ID']:\n",
    "    carte_data = df[df['CASE_ID'] == case_id].sort_values('date_dt')\n",
    "    derniere_seq = carte_data.iloc[-1]['SEQ']\n",
    "    print(f\"Carte {case_id} : Dernière SEQ = {derniere_seq} (fraude à SEQ=2)\")\n",
    "    \n",
    "    if derniere_seq != 2:\n",
    "        print(f\"INCOHÉRENCE! La fraude n'est pas à la dernière position!\")"
   ]
  },
  {
   "cell_type": "code",
   "execution_count": null,
   "metadata": {},
   "outputs": [],
   "source": []
  },
  {
   "cell_type": "code",
   "execution_count": 32,
   "metadata": {},
   "outputs": [
    {
     "name": "stdout",
     "output_type": "stream",
     "text": [
      "ÉTAPE 3 - Analyse des incohérences détectées\n",
      "\n",
      "--- ANALYSE DÉTAILLÉE Carte 176768654.0 ---\n",
      "Ordre chronologique complet :\n",
      " SEQ  fraude  dollar_amt Trans_Calendar_Date Local_Transaction_Time\n",
      "  41       0       18.00           24-Jul-17    1900-01-01 09:58:00\n",
      "  40       0       33.44           24-Jul-17    1900-01-01 12:55:38\n",
      "  39       0       37.01           25-Jul-17    1900-01-01 07:41:59\n",
      "  38       0       38.88           26-Jul-17    1900-01-01 07:50:28\n",
      "  37       0       27.77           26-Jul-17    1900-01-01 11:27:24\n",
      "  36       0       27.01           26-Jul-17    1900-01-01 14:36:00\n",
      "  35       0       40.00           27-Jul-17    1900-01-01 07:46:28\n",
      "  34       0       44.00           27-Jul-17    1900-01-01 12:53:05\n",
      "  32       0       40.00           28-Jul-17    1900-01-01 12:27:36\n",
      "  33       0       16.00           28-Jul-17    1900-01-01 08:18:00\n",
      "  31       0       46.00           31-Jul-17    1900-01-01 07:26:28\n",
      "  30       0       40.02           31-Jul-17    1900-01-01 12:35:03\n",
      "  29       0       47.00            1-Aug-17    1900-01-01 07:36:34\n",
      "  28       0       42.01            1-Aug-17    1900-01-01 12:22:36\n",
      "  27       0       40.01            2-Aug-17    1900-01-01 07:45:14\n",
      "  26       0       41.00            2-Aug-17    1900-01-01 12:38:00\n",
      "  24       0       25.00            3-Aug-17    1900-01-01 09:54:00\n",
      "  25       0       37.77            3-Aug-17    1900-01-01 07:28:00\n",
      "  23       0       42.01            3-Aug-17    1900-01-01 13:17:00\n",
      "  21       0       21.21            4-Aug-17    1900-01-01 09:32:00\n",
      "  22       0       44.44            4-Aug-17    1900-01-01 07:06:23\n",
      "  20       0       36.70            7-Aug-17    1900-01-01 07:29:24\n",
      "  19       0       38.00            7-Aug-17    1900-01-01 11:52:00\n",
      "  18       0       41.00            8-Aug-17    1900-01-01 07:44:12\n",
      "  17       0       41.00            8-Aug-17    1900-01-01 11:58:00\n",
      "  16       0       19.08            8-Aug-17    1900-01-01 18:51:23\n",
      "  15       0       39.01            9-Aug-17    1900-01-01 06:52:35\n",
      "  14       0       44.00            9-Aug-17    1900-01-01 12:12:00\n",
      "  13       0       46.66           10-Aug-17    1900-01-01 06:41:33\n",
      "  12       0       39.01           10-Aug-17    1900-01-01 11:12:49\n",
      "  11       0       40.60           11-Aug-17    1900-01-01 07:11:14\n",
      "  10       0       48.00           14-Aug-17    1900-01-01 07:15:00\n",
      "   9       0       44.01           14-Aug-17    1900-01-01 12:01:00\n",
      "   8       0       35.01           15-Aug-17    1900-01-01 07:01:23\n",
      "   7       0       22.00           15-Aug-17    1900-01-01 10:23:00\n",
      "   6       0       48.80           16-Aug-17    1900-01-01 08:05:00\n",
      "   5       0       44.00           17-Aug-17    1900-01-01 06:32:41\n",
      "   4       0       28.88           17-Aug-17    1900-01-01 09:38:00\n",
      "   2       1      149.80           18-Aug-17    1900-01-01 09:41:00\n",
      "   3       0       31.81           18-Aug-17    1900-01-01 07:07:37\n",
      "   1       0       14.84           18-Aug-17    1900-01-01 09:41:00\n",
      "→ Fraude à SEQ = 2\n",
      "→ Dernière transaction SEQ = 1\n",
      "\n",
      "--- ANALYSE DÉTAILLÉE Carte 176765454.0 ---\n",
      "Ordre chronologique complet :\n",
      " SEQ  fraude  dollar_amt Trans_Calendar_Date Local_Transaction_Time\n",
      "  41       0       39.46            8-Feb-17    1900-01-01 12:44:00\n",
      "  40       0       86.62            9-Feb-17    1900-01-01 15:49:00\n",
      "  39       0       51.02           14-Feb-17    1900-01-01 07:49:00\n",
      "  38       0       49.27           14-Feb-17    1900-01-01 15:20:58\n",
      "  37       0       73.38           16-Feb-17    1900-01-01 12:40:00\n",
      "  36       0       19.51           24-Feb-17    1900-01-01 17:20:00\n",
      "  35       0       85.25           25-Feb-17    1900-01-01 15:14:00\n",
      "  34       0       46.32            2-Mar-17    1900-01-01 09:07:00\n",
      "  33       0       61.62            2-Mar-17    1900-01-01 15:06:00\n",
      "  31       0       75.63            7-Mar-17    1900-01-01 18:55:00\n",
      "  32       0       62.12            7-Mar-17    1900-01-01 09:07:00\n",
      "  30       0       64.50           10-Mar-17    1900-01-01 15:10:00\n",
      "  29       0       65.25           11-Mar-17    1900-01-01 18:27:50\n",
      "  28       0       50.01           18-Mar-17    1900-01-01 09:07:13\n",
      "  27       0       79.12           22-Mar-17    1900-01-01 08:52:00\n",
      "  26       0       71.61           27-Mar-17    1900-01-01 13:46:00\n",
      "  25       0       87.38           28-Mar-17    1900-01-01 12:16:00\n",
      "  24       0       83.49            1-Apr-17    1900-01-01 09:19:57\n",
      "  23       0       65.07           10-Apr-17    1900-01-01 15:29:00\n",
      "  22       0       81.70           15-Apr-17    1900-01-01 08:52:00\n",
      "  21       0       83.35           18-Apr-17    1900-01-01 16:29:05\n",
      "  20       0       83.42           24-Apr-17    1900-01-01 08:42:13\n",
      "  19       0       77.00           27-Apr-17    1900-01-01 10:50:00\n",
      "  18       0       69.99            3-May-17    1900-01-01 10:43:00\n",
      "  17       0       80.17            6-May-17    1900-01-01 15:15:00\n",
      "  16       0       74.98           11-May-17    1900-01-01 12:51:00\n",
      "  15       0       74.30           17-May-17    1900-01-01 11:19:00\n",
      "  14       0       75.67           20-May-17    1900-01-01 07:03:00\n",
      "  13       0       60.95           27-May-17    1900-01-01 18:03:00\n",
      "  12       0       79.48            2-Jun-17    1900-01-01 08:38:00\n",
      "  11       0       49.84            6-Jun-17    1900-01-01 11:43:00\n",
      "  10       0       82.54           10-Jun-17    1900-01-01 15:21:00\n",
      "   9       0       64.61           17-Jun-17    1900-01-01 13:26:00\n",
      "   8       0       39.68           21-Jun-17    1900-01-01 14:52:00\n",
      "   7       0       62.68           27-Jun-17    1900-01-01 11:12:00\n",
      "   6       0       76.09           12-Jul-17    1900-01-01 09:27:00\n",
      "   5       0       71.81           16-Jul-17    1900-01-01 09:35:00\n",
      "   4       0       81.00           21-Jul-17    1900-01-01 12:00:00\n",
      "   3       0       51.81           26-Jul-17    1900-01-01 13:57:00\n",
      "   2       1      300.00           26-Jul-17    1900-01-01 23:05:00\n",
      "   1       0       69.76           26-Jul-17    1900-01-01 23:05:00\n",
      "→ Fraude à SEQ = 2\n",
      "→ Dernière transaction SEQ = 1\n"
     ]
    }
   ],
   "source": [
    "# Étape 3 - Focus sur les 2 cartes incohérentes\n",
    "print(\"ÉTAPE 3 - Analyse des incohérences détectées\")\n",
    "\n",
    "cartes_incoherentes = [176768654.0, 176765454.0]\n",
    "\n",
    "for case_id in cartes_incoherentes:\n",
    "    carte_data = df[df['CASE_ID'] == case_id].sort_values('date_dt')\n",
    "    print(f\"\\n--- ANALYSE DÉTAILLÉE Carte {case_id} ---\")\n",
    "    print(\"Ordre chronologique complet :\")\n",
    "    print(carte_data[['SEQ', 'fraude', 'dollar_amt', 'Trans_Calendar_Date', 'Local_Transaction_Time']].to_string(index=False))\n",
    "    \n",
    "    # Identifier où est la vraie fraude\n",
    "    fraude_position = carte_data[carte_data['fraude'] == 1]['SEQ'].values[0]\n",
    "    derniere_position = carte_data.iloc[-1]['SEQ']\n",
    "    print(f\"→ Fraude à SEQ = {fraude_position}\")\n",
    "    print(f\"→ Dernière transaction SEQ = {derniere_position}\")"
   ]
  },
  {
   "cell_type": "code",
   "execution_count": null,
   "metadata": {},
   "outputs": [],
   "source": []
  },
  {
   "cell_type": "code",
   "execution_count": 33,
   "metadata": {},
   "outputs": [
    {
     "name": "stdout",
     "output_type": "stream",
     "text": [
      "ÉTAPE 1 - Conversion des dates\n",
      "Dates converties\n",
      "Plage de dates : 2016-01-13 00:00:00 à 2018-08-03 00:00:00\n",
      "Nombre de jours couverts : 933 jours\n",
      "Exemple de données :\n",
      "   CASE_ID  SEQ    date_dt  fraude\n",
      "0      0.0   41 2018-03-24       0\n",
      "1      0.0   40 2018-03-26       0\n",
      "2      0.0   39 2018-03-27       0\n"
     ]
    }
   ],
   "source": [
    "# Étape 1 - Conversion des dates seulement\n",
    "print(\"ÉTAPE 1 - Conversion des dates\")\n",
    "\n",
    "# Conversion de la colonne date\n",
    "df['date_dt'] = pd.to_datetime(df['Trans_Calendar_Date'], format='%d-%b-%y')\n",
    "\n",
    "print(\"Dates converties\")\n",
    "print(f\"Plage de dates : {df['date_dt'].min()} à {df['date_dt'].max()}\")\n",
    "print(f\"Nombre de jours couverts : {(df['date_dt'].max() - df['date_dt'].min()).days} jours\")\n",
    "print(f\"Exemple de données :\")\n",
    "print(df[['CASE_ID', 'SEQ', 'date_dt', 'fraude']].head(3))"
   ]
  },
  {
   "cell_type": "markdown",
   "metadata": {},
   "source": [
    "### Calcul des délais entre transactions"
   ]
  },
  {
   "cell_type": "code",
   "execution_count": 34,
   "metadata": {},
   "outputs": [
    {
     "name": "stdout",
     "output_type": "stream",
     "text": [
      "ÉTAPE 2 - Calcul des périodes d'inactivité\n",
      "Délais calculés\n",
      "Exemple des délais pour quelques cartes :\n",
      "   CASE_ID  SEQ    date_dt  days_since_last  fraude\n",
      "0      0.0   41 2018-03-24              NaN       0\n",
      "1      0.0   40 2018-03-26              2.0       0\n",
      "2      0.0   39 2018-03-27              1.0       0\n",
      "3      0.0   38 2018-04-04              8.0       0\n",
      "4      0.0   37 2018-04-04              0.0       0\n",
      "5      0.0   36 2018-04-13              9.0       0\n",
      "6      0.0   35 2018-04-18              5.0       0\n",
      "7      0.0   34 2018-04-19              1.0       0\n",
      "8      0.0   33 2018-04-24              5.0       0\n",
      "9      0.0   32 2018-04-26              2.0       0\n"
     ]
    }
   ],
   "source": [
    "# Étape 2 - Calcul des délais entre transactions par carte\n",
    "print(\"ÉTAPE 2 - Calcul des périodes d'inactivité\")\n",
    "\n",
    "# Trier par carte et date\n",
    "df_sorted = df.sort_values(['CASE_ID', 'date_dt'])\n",
    "\n",
    "# Calculer le délai depuis la transaction précédente\n",
    "df_sorted['days_since_last'] = df_sorted.groupby('CASE_ID')['date_dt'].diff().dt.days\n",
    "\n",
    "print(\"Délais calculés\")\n",
    "print(f\"Exemple des délais pour quelques cartes :\")\n",
    "print(df_sorted[['CASE_ID', 'SEQ', 'date_dt', 'days_since_last', 'fraude']].head(10))"
   ]
  },
  {
   "cell_type": "markdown",
   "metadata": {},
   "source": [
    "### Comparaison des délais avant fraude vs transactions normales"
   ]
  },
  {
   "cell_type": "code",
   "execution_count": 35,
   "metadata": {},
   "outputs": [
    {
     "name": "stdout",
     "output_type": "stream",
     "text": [
      "ÉTAPE 3 - Les fraudes suivent-elles des périodes d'inactivité ?\n",
      "📊 STATISTIQUES DES DÉLAIS :\n",
      "Transactions FRAUDULEUSES :\n",
      "  • Nombre : 7661\n",
      "  • Délai moyen : 3.3 jours\n",
      "  • Délai médian : 2.0 jours\n",
      "  • Délai max : 158.0 jours\n",
      "\n",
      "Transactions NORMALES :\n",
      "  • Nombre : 1321767\n",
      "  • Délai moyen : 3.5 jours\n",
      "  • Délai médian : 3.0 jours\n",
      "  • Délai max : 392.0 jours\n"
     ]
    }
   ],
   "source": [
    "# Étape 3 - Analyse des délais avant transactions frauduleuses\n",
    "print(\"ÉTAPE 3 - Les fraudes suivent-elles des périodes d'inactivité ?\")\n",
    "\n",
    "# Séparer les délais pour fraudes vs transactions normales\n",
    "delais_fraudes = df_sorted[(df_sorted['fraude'] == 1) & (df_sorted['days_since_last'].notna())]['days_since_last']\n",
    "delais_normales = df_sorted[(df_sorted['fraude'] == 0) & (df_sorted['days_since_last'].notna())]['days_since_last']\n",
    "\n",
    "print(f\"📊 STATISTIQUES DES DÉLAIS :\")\n",
    "print(f\"Transactions FRAUDULEUSES :\")\n",
    "print(f\"  • Nombre : {len(delais_fraudes)}\")\n",
    "print(f\"  • Délai moyen : {delais_fraudes.mean():.1f} jours\")\n",
    "print(f\"  • Délai médian : {delais_fraudes.median():.1f} jours\")\n",
    "print(f\"  • Délai max : {delais_fraudes.max()} jours\")\n",
    "print(f\"\\nTransactions NORMALES :\")\n",
    "print(f\"  • Nombre : {len(delais_normales)}\")\n",
    "print(f\"  • Délai moyen : {delais_normales.mean():.1f} jours\")\n",
    "print(f\"  • Délai médian : {delais_normales.median():.1f} jours\")\n",
    "print(f\"  • Délai max : {delais_normales.max()} jours\")"
   ]
  },
  {
   "cell_type": "markdown",
   "metadata": {},
   "source": [
    "# Analyse approfondie et visualisation"
   ]
  },
  {
   "cell_type": "code",
   "execution_count": 36,
   "metadata": {},
   "outputs": [
    {
     "name": "stdout",
     "output_type": "stream",
     "text": [
      "ÉTAPE 4 - Analyse détaillée des patterns de délais\n",
      "\n",
      " FOCUS SUR DÉLAIS COURTS (0-7 jours) :\n",
      "Fraudes (0-7 jours) : 7041 transactions\n",
      "  • % des fraudes totales : 91.9%\n",
      "Normales (0-7 jours) : 1212046 transactions\n",
      "  • % des normales totales : 91.7%\n",
      "\n",
      " DISTRIBUTION PAR JOUR DE DÉLAI :\n",
      "  0 jour(s) : Fraudes=1384, Normales=141087\n",
      "  1 jour(s) : Fraudes=2140, Normales=292701\n",
      "  2 jour(s) : Fraudes=1287, Normales=223207\n",
      "  3 jour(s) : Fraudes=825, Normales=163744\n",
      "  4 jour(s) : Fraudes=586, Normales=137309\n",
      "  5 jour(s) : Fraudes=394, Normales=113133\n",
      "  6 jour(s) : Fraudes=237, Normales=83254\n",
      "  7 jour(s) : Fraudes=188, Normales=57611\n"
     ]
    }
   ],
   "source": [
    "# Étape 4 - Analyse plus détaillée des délais\n",
    "print(\"ÉTAPE 4 - Analyse détaillée des patterns de délais\")\n",
    "\n",
    "# Focus sur les délais courts (0-7 jours) où se concentre l'activité\n",
    "delais_fraudes_courts = delais_fraudes[delais_fraudes <= 7]\n",
    "delais_normales_courts = delais_normales[delais_normales <= 7]\n",
    "\n",
    "print(f\"\\n FOCUS SUR DÉLAIS COURTS (0-7 jours) :\")\n",
    "print(f\"Fraudes (0-7 jours) : {len(delais_fraudes_courts)} transactions\")\n",
    "print(f\"  • % des fraudes totales : {len(delais_fraudes_courts)/len(delais_fraudes)*100:.1f}%\")\n",
    "print(f\"Normales (0-7 jours) : {len(delais_normales_courts)} transactions\") \n",
    "print(f\"  • % des normales totales : {len(delais_normales_courts)/len(delais_normales)*100:.1f}%\")\n",
    "\n",
    "# Distribution par jour de délai\n",
    "print(f\"\\n DISTRIBUTION PAR JOUR DE DÉLAI :\")\n",
    "for jours in range(0, 8):\n",
    "    fraudes_jour = (delais_fraudes == jours).sum()\n",
    "    normales_jour = (delais_normales == jours).sum()\n",
    "    print(f\"  {jours} jour(s) : Fraudes={fraudes_jour}, Normales={normales_jour}\")"
   ]
  },
  {
   "cell_type": "markdown",
   "metadata": {},
   "source": [
    "### Analyse de la distribution temporelle des transactions"
   ]
  },
  {
   "cell_type": "code",
   "execution_count": 37,
   "metadata": {},
   "outputs": [
    {
     "data": {
      "image/png": "[encoded data removed]",
      "text/plain": [
       "<Figure size 720x360 with 1 Axes>"
      ]
     },
     "metadata": {
      "needs_background": "light"
     },
     "output_type": "display_data"
    },
    {
     "name": "stdout",
     "output_type": "stream",
     "text": [
      "Statistiques comparatives de la durée d'activité des cartes :\n"
     ]
    },
    {
     "data": {
      "text/html": [
       "<div>\n",
       "<style scoped>\n",
       "    .dataframe tbody tr th:only-of-type {\n",
       "        vertical-align: middle;\n",
       "    }\n",
       "\n",
       "    .dataframe tbody tr th {\n",
       "        vertical-align: top;\n",
       "    }\n",
       "\n",
       "    .dataframe thead th {\n",
       "        text-align: right;\n",
       "    }\n",
       "</style>\n",
       "<table border=\"1\" class=\"dataframe\">\n",
       "  <thead>\n",
       "    <tr style=\"text-align: right;\">\n",
       "      <th></th>\n",
       "      <th>count</th>\n",
       "      <th>mean</th>\n",
       "      <th>std</th>\n",
       "      <th>min</th>\n",
       "      <th>25%</th>\n",
       "      <th>50%</th>\n",
       "      <th>75%</th>\n",
       "      <th>max</th>\n",
       "    </tr>\n",
       "    <tr>\n",
       "      <th>CD_TYPE</th>\n",
       "      <th></th>\n",
       "      <th></th>\n",
       "      <th></th>\n",
       "      <th></th>\n",
       "      <th></th>\n",
       "      <th></th>\n",
       "      <th></th>\n",
       "      <th></th>\n",
       "    </tr>\n",
       "  </thead>\n",
       "  <tbody>\n",
       "    <tr>\n",
       "      <th>GDC</th>\n",
       "      <td>25575.0</td>\n",
       "      <td>3332.135358</td>\n",
       "      <td>1817.903807</td>\n",
       "      <td>24.315000</td>\n",
       "      <td>1967.851389</td>\n",
       "      <td>2963.590000</td>\n",
       "      <td>4413.944306</td>\n",
       "      <td>8787.073611</td>\n",
       "    </tr>\n",
       "    <tr>\n",
       "      <th>WPC</th>\n",
       "      <td>7737.0</td>\n",
       "      <td>3498.430393</td>\n",
       "      <td>2115.160930</td>\n",
       "      <td>51.565278</td>\n",
       "      <td>2027.141389</td>\n",
       "      <td>3078.144167</td>\n",
       "      <td>4442.204722</td>\n",
       "      <td>14185.913611</td>\n",
       "    </tr>\n",
       "  </tbody>\n",
       "</table>\n",
       "</div>"
      ],
      "text/plain": [
       "           count         mean          std        min          25%          50%          75%           max\n",
       "CD_TYPE                                                                                                   \n",
       "GDC      25575.0  3332.135358  1817.903807  24.315000  1967.851389  2963.590000  4413.944306   8787.073611\n",
       "WPC       7737.0  3498.430393  2115.160930  51.565278  2027.141389  3078.144167  4442.204722  14185.913611"
      ]
     },
     "metadata": {},
     "output_type": "display_data"
    }
   ],
   "source": [
    "# Conversion des colonnes de date et d'heure en format datetime\n",
    "Data_card_complete['datetime'] = pd.to_datetime(\n",
    "    Data_card_complete['Trans_Calendar_Date'] + ' ' + Data_card_complete['Local_Transaction_Time'],\n",
    "    errors='coerce'\n",
    ")\n",
    "\n",
    "# Calcul du temps écoulé entre la première et la dernière transaction pour chaque carte\n",
    "time_spread = Data_card_complete.groupby(['CASE_ID', 'CD_TYPE'])['datetime'].agg(['min', 'max']).reset_index()\n",
    "time_spread['duree_active'] = (time_spread['max'] - time_spread['min']).dt.total_seconds() / 3600  # en heures\n",
    "\n",
    "# Distribution de la durée active par type de carte\n",
    "plt.figure(figsize=(10, 5))\n",
    "sns.kdeplot(data=time_spread, x='duree_active', hue='CD_TYPE', fill=True, common_norm=False, alpha=0.5)\n",
    "plt.title(\"Distribution de la durée d'activité des cartes (en heures)\")\n",
    "plt.xlabel(\"Durée entre la première et la dernière transaction (heures)\")\n",
    "plt.ylabel(\"Densité\")\n",
    "plt.legend(title=\"Type de carte\", labels=[\"Authentiques (GDC)\", \"Compromises (WPC)\"])\n",
    "plt.show()\n",
    "\n",
    "# Statistiques comparatives\n",
    "stats = time_spread.groupby('CD_TYPE')['duree_active'].describe()\n",
    "print(\"Statistiques comparatives de la durée d'activité des cartes :\")\n",
    "display(stats)"
   ]
  },
  {
   "cell_type": "markdown",
   "metadata": {},
   "source": [
    "### $Commentaire$\n",
    "\n",
    "🔹 1. Forme générale\n",
    "\n",
    "Les deux distributions sont globalement similaires, ce qui indique que la durée d’activité (l’étendue temporelle des transactions) n’est pas fondamentalement différente entre les cartes authentiques et compromises.\n",
    "Les deux courbes présentent un pic de densité autour de 2000 à 3000 heures (≈ 80 à 120 jours), ce qui semble être la période la plus courante d’activité d’une carte avant désactivation ou observation de fraude.\n",
    "\n",
    "🔹 2. Légère déviation vers la droite pour les cartes compromises\n",
    "\n",
    "On observe que la courbe des cartes compromises s’étend légèrement plus vers la droite, avec une queue plus longue.\n",
    "Cela signifie que certaines cartes compromises restent actives plus longtemps que la moyenne, avant que la fraude ne soit détectée ou que leur utilisation ne cesse."
   ]
  },
  {
   "cell_type": "code",
   "execution_count": 38,
   "metadata": {},
   "outputs": [
    {
     "name": "stdout",
     "output_type": "stream",
     "text": [
      "Table de contingence :\n",
      "fraude         0     1\n",
      "CD_TYPE               \n",
      "GDC      1048575     0\n",
      "WPC       310480  7762\n",
      "\n",
      " Résultat du test du khi-deux d'indépendance :\n",
      "Chi2 = 25716.748, ddl = 1, p-value = 0.00000\n"
     ]
    },
    {
     "data": {
      "image/png": "[encoded data removed]",
      "text/plain": [
       "<Figure size 432x288 with 2 Axes>"
      ]
     },
     "metadata": {
      "needs_background": "light"
     },
     "output_type": "display_data"
    },
    {
     "name": "stdout",
     "output_type": "stream",
     "text": [
      "🟠 Il existe une association statistiquement significative entre le type de carte et la fraude.\n"
     ]
    }
   ],
   "source": [
    "# --- Table de contingence ---\n",
    "contingency = pd.crosstab(Data_card_complete['CD_TYPE'], Data_card_complete['fraude'])\n",
    "print(\"Table de contingence :\")\n",
    "print(contingency)\n",
    "\n",
    "# --- Test du chi-deux ---\n",
    "chi2, p, dof, expected = chi2_contingency(contingency)\n",
    "\n",
    "print(\"\\n Résultat du test du khi-deux d'indépendance :\")\n",
    "print(f\"Chi2 = {chi2:.3f}, ddl = {dof}, p-value = {p:.5f}\")\n",
    "\n",
    "# --- Visualisation ---\n",
    "plt.figure(figsize=(6,4))\n",
    "sns.heatmap(contingency, annot=True, fmt='d', cmap='Blues')\n",
    "plt.title(\"Relation entre le type de carte et la fraude\")\n",
    "plt.xlabel(\"Fraude (0=Non, 1=Oui)\")\n",
    "plt.ylabel(\"Type de carte\")\n",
    "plt.show()\n",
    "\n",
    "# --- Interprétation automatique ---\n",
    "if p < 0.05:\n",
    "    print(\"🟠 Il existe une association statistiquement significative entre le type de carte et la fraude.\")\n",
    "else:\n",
    "    print(\"🔵 Aucune relation statistiquement significative détectée entre le type de carte et la fraude.\")\n"
   ]
  },
  {
   "cell_type": "code",
   "execution_count": 39,
   "metadata": {},
   "outputs": [
    {
     "data": {
      "image/png": "[encoded data removed]",
      "text/plain": [
       "<Figure size 432x288 with 1 Axes>"
      ]
     },
     "metadata": {
      "needs_background": "light"
     },
     "output_type": "display_data"
    },
    {
     "name": "stdout",
     "output_type": "stream",
     "text": [
      "Taux moyen de fraude par type de carte :\n",
      "  CD_TYPE   fraude\n",
      "0     GDC  0.00000\n",
      "1     WPC  0.02439\n"
     ]
    }
   ],
   "source": [
    "# Calcul du taux de fraude par type de carte\n",
    "fraud_rate = Data_card_complete.groupby('CD_TYPE')['fraude'].mean().reset_index()\n",
    "\n",
    "# Visualisation\n",
    "plt.figure(figsize=(6,4))\n",
    "sns.barplot(x='CD_TYPE', y='fraude', data=fraud_rate, palette='viridis')\n",
    "plt.title(\"Taux de fraude moyen selon le type de carte\")\n",
    "plt.ylabel(\"Taux de fraude\")\n",
    "plt.xlabel(\"Type de carte\")\n",
    "plt.show()\n",
    "\n",
    "# Affichage des valeurs\n",
    "print(\"Taux moyen de fraude par type de carte :\")\n",
    "print(fraud_rate)"
   ]
  },
  {
   "cell_type": "markdown",
   "metadata": {},
   "source": [
    "### Analyse de la relation entre le type de carte et la fraude\n",
    "\n",
    "Le test du **khi-deux d'indépendance** révèle une **association statistiquement significative** entre le type de carte (`CD_TYPE`) et la survenue d’une fraude, avec une **p-value < 0.001**.  \n",
    "Autrement dit, la probabilité de fraude **n’est pas indépendante** du type de carte utilisé.\n",
    "\n",
    "Le **heatmap** montre clairement que :\n",
    "- Aucune fraude n’a été observée sur les **cartes authentiques (GDC)**.\n",
    "- Toutes les fraudes détectées concernent exclusivement les **cartes compromises (WPC)**.\n",
    "\n",
    "Cette répartition indique que le **type de carte est un indicateur déterminant** du risque de fraude dans le dataset.  \n",
    "Ainsi, les cartes classées comme *WPC* concentrent l’intégralité des transactions frauduleuses, tandis que les cartes *GDC* apparaissent entièrement sûres.\n",
    "\n",
    "En résumé, le type de carte joue un rôle discriminant majeur dans la détection de la fraude, ce qui justifie son intégration comme variable explicative clé dans toute modélisation prédictive ultérieure."
   ]
  },
  {
   "cell_type": "markdown",
   "metadata": {},
   "source": [
    "### Création de features"
   ]
  },
  {
   "cell_type": "code",
   "execution_count": 41,
   "metadata": {},
   "outputs": [],
   "source": [
    "Data_card_complete['Trans_Calendar_Date'] = pd.to_datetime(Data_card_complete['Trans_Calendar_Date'])\n",
    "\n",
    "# Numéro du jour de semaine\n",
    "Data_card_complete['jour_semaine_num'] = Data_card_complete['Trans_Calendar_Date'].dt.dayofweek\n",
    "\n",
    "# Avec libellés français et numéros\n",
    "Data_card_complete['jour_semaine_complet'] = Data_card_complete['jour_semaine_num'].map({\n",
    "    0: 'Lundi', 1: 'Mardi', 2: 'Mercredi', 3: 'Jeudi',\n",
    "    4: 'Vendredi', 5: 'Samedi', 6: 'Dimanche'\n",
    "})"
   ]
  },
  {
   "cell_type": "code",
   "execution_count": 42,
   "metadata": {},
   "outputs": [
    {
     "name": "stdout",
     "output_type": "stream",
     "text": [
      "Répartition des transactions par jour:\n",
      "                     dollar_amt                     fraude\n",
      "                          count   mean          sum   mean\n",
      "jour_semaine_complet                                      \n",
      "Dimanche                  65951  50.28   3316207.29   0.01\n",
      "Jeudi                    247018  54.56  13478470.23   0.00\n",
      "Lundi                    233509  54.88  12815683.52   0.01\n",
      "Mardi                    245910  54.66  13441425.19   0.01\n",
      "Mercredi                 265151  54.85  14544049.25   0.00\n",
      "Samedi                    85391  52.72   4501660.48   0.01\n",
      "Vendredi                 223887  54.24  12142932.24   0.01\n"
     ]
    }
   ],
   "source": [
    "# Vérifier la distribution des transactions par jour\n",
    "transactions_par_jour = Data_card_complete.groupby('jour_semaine_complet').agg({\n",
    "    'dollar_amt': ['count', 'mean', 'sum'],\n",
    "    'fraude': 'mean'\n",
    "}).round(2)\n",
    "\n",
    "print(\"Répartition des transactions par jour:\")\n",
    "print(transactions_par_jour)"
   ]
  },
  {
   "cell_type": "code",
   "execution_count": 43,
   "metadata": {},
   "outputs": [
    {
     "name": "stdout",
     "output_type": "stream",
     "text": [
      "DISTRIBUTION EXACTE DES FRAUDES PAR JOUR\n",
      "============================================================\n",
      "  jour_semaine  nombre_fraudes  total_transactions  taux_fraude\n",
      "0        Lundi            1180              233509     0.005053\n",
      "1        Mardi            1277              245910     0.005193\n",
      "2     Mercredi            1309              265151     0.004937\n",
      "3        Jeudi            1195              247018     0.004838\n",
      "4     Vendredi            1124              223887     0.005020\n",
      "5       Samedi            1026               85391     0.012015\n",
      "6     Dimanche             651               65951     0.009871\n"
     ]
    }
   ],
   "source": [
    "# Compter les fraudes exactes par jour\n",
    "fraudes_exactes = Data_card_complete[Data_card_complete['fraude'] == 1].groupby('jour_semaine_num').size()\n",
    "\n",
    "# Compter le total des transactions par jour\n",
    "total_par_jour = Data_card_complete.groupby('jour_semaine_num').size()\n",
    "\n",
    "# Calculer le taux réel\n",
    "taux_reel_fraude = (fraudes_exactes / total_par_jour).fillna(0)\n",
    "\n",
    "# Créer un DataFrame complet\n",
    "distribution_fraudes = pd.DataFrame({\n",
    "    'jour_semaine': ['Lundi', 'Mardi', 'Mercredi', 'Jeudi', 'Vendredi', 'Samedi', 'Dimanche'],\n",
    "    'nombre_fraudes': fraudes_exactes.reindex(range(7), fill_value=0).values,\n",
    "    'total_transactions': total_par_jour.reindex(range(7), fill_value=0).values,\n",
    "    'taux_fraude': taux_reel_fraude.reindex(range(7), fill_value=0).values\n",
    "})\n",
    "\n",
    "print(\"DISTRIBUTION EXACTE DES FRAUDES PAR JOUR\")\n",
    "print(\"=\"*60)\n",
    "print(distribution_fraudes)"
   ]
  },
  {
   "cell_type": "code",
   "execution_count": 44,
   "metadata": {},
   "outputs": [
    {
     "data": {
      "image/png": "[encoded data removed]",
      "text/plain": [
       "<Figure size 1008x576 with 2 Axes>"
      ]
     },
     "metadata": {
      "needs_background": "light"
     },
     "output_type": "display_data"
    }
   ],
   "source": [
    "plt.figure(figsize=(14, 8))\n",
    "\n",
    "# Graphique 1: Nombre absolu de fraudes\n",
    "plt.subplot(1, 2, 1)\n",
    "bars = plt.bar(distribution_fraudes['jour_semaine'], \n",
    "               distribution_fraudes['nombre_fraudes'],\n",
    "               color=['#ff6b6b' if x > 0 else '#51cf66' for x in distribution_fraudes['nombre_fraudes']])\n",
    "\n",
    "plt.title('Nombre Exact de Fraudes par Jour', fontsize=14, fontweight='bold')\n",
    "plt.ylabel('Nombre de Fraudes')\n",
    "plt.xticks(rotation=45)\n",
    "\n",
    "# Ajouter les valeurs exactes\n",
    "for bar, nombre in zip(bars, distribution_fraudes['nombre_fraudes']):\n",
    "    plt.text(bar.get_x() + bar.get_width()/2, bar.get_height() + 0.5, \n",
    "             f'{int(nombre)}', ha='center', va='bottom', fontweight='bold')\n",
    "\n",
    "# Graphique 2: Taux de fraude réel\n",
    "plt.subplot(1, 2, 2)\n",
    "bars_taux = plt.bar(distribution_fraudes['jour_semaine'], \n",
    "                    distribution_fraudes['taux_fraude'] * 100,\n",
    "                    color=['#ff6b6b' if x > 0 else '#51cf66' for x in distribution_fraudes['taux_fraude']])\n",
    "\n",
    "plt.title('Taux Réel de Fraude par Jour', fontsize=14, fontweight='bold')\n",
    "plt.ylabel('Taux de Fraude (%)')\n",
    "plt.xticks(rotation=45)\n",
    "\n",
    "# Ajouter les pourcentages\n",
    "for bar, taux in zip(bars_taux, distribution_fraudes['taux_fraude']):\n",
    "    plt.text(bar.get_x() + bar.get_width()/2, bar.get_height() + 0.02, \n",
    "             f'{taux:.2%}', ha='center', va='bottom', fontweight='bold')\n",
    "\n",
    "plt.tight_layout()\n",
    "plt.show()"
   ]
  },
  {
   "cell_type": "markdown",
   "metadata": {},
   "source": [
    "# 4. Data Cleaning"
   ]
  },
  {
   "cell_type": "markdown",
   "metadata": {},
   "source": [
    "## 4.1. Nettoyage des montants négatifs"
   ]
  },
  {
   "cell_type": "code",
   "execution_count": 46,
   "metadata": {},
   "outputs": [
    {
     "name": "stdout",
     "output_type": "stream",
     "text": [
      "Nombre total de transactions après nettoyage : 1,361,022\n"
     ]
    }
   ],
   "source": [
    "# Nettoyage des montants négatifs\n",
    "\n",
    "\n",
    "# Suppression des transactions avec des montants négatifs\n",
    "Data_card_cleaned = Data_card_complete[Data_card_complete['dollar_amt'] >= 0].copy()\n",
    "\n",
    "# Vérification post-suppression\n",
    "print(f\"Nombre total de transactions après nettoyage : {Data_card_cleaned.shape[0]:,}\")"
   ]
  },
  {
   "cell_type": "markdown",
   "metadata": {},
   "source": [
    "\n",
    "### $Commentaire$\n",
    "\n",
    "Les transactions présentant un montant négatif correspondent généralement à des **remboursements** ou **annulations d’achat**, \n",
    "et ne reflètent pas directement des opérations frauduleuses.  \n",
    "Afin de concentrer l’analyse sur les comportements réellement suspects, \n",
    "ces transactions ont été **exclues du dataset**. \n",
    "Cette étape permet d’obtenir un ensemble de données plus cohérent et représentatif du problème étudié.\n"
   ]
  },
  {
   "cell_type": "markdown",
   "metadata": {},
   "source": [
    "# 5. Data Preparation"
   ]
  },
  {
   "cell_type": "code",
   "execution_count": null,
   "metadata": {},
   "outputs": [],
   "source": []
  }
 ],
 "metadata": {
  "kernelspec": {
   "display_name": "Python (learn-env)",
   "language": "python",
   "name": "learn-env"
  }
 },
 "nbformat": 4,
 "nbformat_minor": 4
}
